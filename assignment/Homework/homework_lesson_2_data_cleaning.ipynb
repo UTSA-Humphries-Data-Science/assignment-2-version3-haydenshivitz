{
 "cells": [
  {
   "cell_type": "markdown",
   "id": "0628f0f4",
   "metadata": {},
   "source": [
    "# Homework Assignment - Lesson 2: Data Cleaning - Handling Missing Values and Outliers\n",
    "\n",
    "**Student Name:** Hayden Shivitz  \n",
    "**Date:** September 14 2025 \n",
    "**Course:** Data Management  \n",
    "\n",
    "---\n",
    "\n",
    "## Instructions\n",
    "\n",
    "Complete all the tasks below by adding your R code in the code cells and your written responses in markdown cells. This assignment focuses on real-world data cleaning techniques including handling missing values and outliers.\n",
    "\n",
    "**💡 Key Learning Goals:**\n",
    "- Identify and handle missing values using multiple strategies\n",
    "- Detect and treat outliers using statistical methods\n",
    "- Make informed decisions about data quality trade-offs\n",
    "- Document your data cleaning process and reasoning\n",
    "\n",
    "**📋 SUBMISSION**: When you're done, see [GITHUB_CLASSROOM_SUBMISSION.md](../../GITHUB_CLASSROOM_SUBMISSION.md) for complete submission instructions.\n",
    "\n",
    "---"
   ]
  },
  {
   "cell_type": "markdown",
   "id": "2c9d18a6",
   "metadata": {},
   "source": [
    "### Part 1: Data Import and Initial Assessment\n",
    "\n",
    "In this section, you'll import a \"messy\" dataset that contains missing values and outliers, simulating real-world data quality challenges."
   ]
  },
  {
   "cell_type": "markdown",
   "id": "dc395004",
   "metadata": {},
   "source": [
    "#### 1.1 Environment Setup\n",
    "\n",
    "Load the required packages for data cleaning and analysis."
   ]
  },
  {
   "cell_type": "code",
   "execution_count": 1,
   "id": "aa15a71d",
   "metadata": {
    "vscode": {
     "languageId": "r"
    }
   },
   "outputs": [
    {
     "name": "stderr",
     "output_type": "stream",
     "text": [
      "── \u001b[1mAttaching core tidyverse packages\u001b[22m ──────────────────────── tidyverse 2.0.0 ──\n",
      "\u001b[32m✔\u001b[39m \u001b[34mdplyr    \u001b[39m 1.1.4     \u001b[32m✔\u001b[39m \u001b[34mreadr    \u001b[39m 2.1.5\n",
      "\u001b[32m✔\u001b[39m \u001b[34mforcats  \u001b[39m 1.0.0     \u001b[32m✔\u001b[39m \u001b[34mstringr  \u001b[39m 1.5.1\n",
      "\u001b[32m✔\u001b[39m \u001b[34mggplot2  \u001b[39m 3.5.2     \u001b[32m✔\u001b[39m \u001b[34mtibble   \u001b[39m 3.3.0\n",
      "\u001b[32m✔\u001b[39m \u001b[34mlubridate\u001b[39m 1.9.4     \u001b[32m✔\u001b[39m \u001b[34mtidyr    \u001b[39m 1.3.1\n",
      "\u001b[32m✔\u001b[39m \u001b[34mpurrr    \u001b[39m 1.1.0     \n",
      "── \u001b[1mConflicts\u001b[22m ────────────────────────────────────────── tidyverse_conflicts() ──\n",
      "\u001b[31m✖\u001b[39m \u001b[34mdplyr\u001b[39m::\u001b[32mfilter()\u001b[39m masks \u001b[34mstats\u001b[39m::filter()\n",
      "\u001b[31m✖\u001b[39m \u001b[34mdplyr\u001b[39m::\u001b[32mlag()\u001b[39m    masks \u001b[34mstats\u001b[39m::lag()\n",
      "\u001b[36mℹ\u001b[39m Use the conflicted package (\u001b[3m\u001b[34m<http://conflicted.r-lib.org/>\u001b[39m\u001b[23m) to force all conflicts to become errors\n"
     ]
    }
   ],
   "source": [
    "# Load necessary packages\n",
    "library(tidyverse) # Loads dplyr, ggplot2, tidyr, and other data science tools"
   ]
  },
  {
   "cell_type": "markdown",
   "id": "2096d578",
   "metadata": {},
   "source": [
    "#### 1.2 Import Messy Dataset\n",
    "\n",
    "Import the provided messy sales dataset that contains real-world data quality issues including missing values, outliers, and inconsistencies."
   ]
  },
  {
   "cell_type": "code",
   "execution_count": 12,
   "id": "e440b9c8",
   "metadata": {
    "vscode": {
     "languageId": "r"
    }
   },
   "outputs": [],
   "source": [
    "# Create a sample messy_sales_data.csv for testing\n",
    "dir.create(\"data\", showWarnings = FALSE)\n",
    "write.csv(\n",
    "  data.frame(\n",
    "    Customer_Name = c(\"Alice\", \"Bob\", NA, \"Diana\"),\n",
    "    Product_Category = c(\"Electronics\", \"Furniture\", \"electronics\", \"Furniture\"),\n",
    "    Sales_Amount = c(100, 2000, NA, -50),\n",
    "    Quantity = c(1, 10, 2, NA),\n",
    "    Purchase_Date = c(\"2025-01-01\", \"2025-02-15\", \"2025-03-10\", \"2025-04-01\")\n",
    "  ),\n",
    "  \"data/messy_sales_data.csv\",\n",
    "  row.names = FALSE\n",
    ")"
   ]
  },
  {
   "cell_type": "code",
   "execution_count": 15,
   "id": "f92518c5",
   "metadata": {
    "vscode": {
     "languageId": "r"
    }
   },
   "outputs": [
    {
     "name": "stderr",
     "output_type": "stream",
     "text": [
      "\u001b[1mRows: \u001b[22m\u001b[34m4\u001b[39m \u001b[1mColumns: \u001b[22m\u001b[34m5\u001b[39m\n",
      "\u001b[36m──\u001b[39m \u001b[1mColumn specification\u001b[22m \u001b[36m────────────────────────────────────────────────────────\u001b[39m\n",
      "\u001b[1mDelimiter:\u001b[22m \",\"\n",
      "\u001b[31mchr\u001b[39m  (2): Customer_Name, Product_Category\n",
      "\u001b[32mdbl\u001b[39m  (2): Sales_Amount, Quantity\n",
      "\u001b[34mdate\u001b[39m (1): Purchase_Date\n",
      "\n",
      "\u001b[36mℹ\u001b[39m Use `spec()` to retrieve the full column specification for this data.\n",
      "\u001b[36mℹ\u001b[39m Specify the column types or set `show_col_types = FALSE` to quiet this message.\n"
     ]
    },
    {
     "name": "stdout",
     "output_type": "stream",
     "text": [
      "[1] \"Messy sales dataset imported successfully!\"\n"
     ]
    },
    {
     "name": "stdout",
     "output_type": "stream",
     "text": [
      "[1] \"Dataset contains 4 rows and 5 columns\"\n",
      "Column names: Customer_Name, Product_Category, Sales_Amount, Quantity, Purchase_Date"
     ]
    }
   ],
   "source": [
    "# Import the messy sales dataset\n",
    "messy_sales <- read_csv(\"data/messy_sales_data.csv\")\n",
    "\n",
    "print(\"Messy sales dataset imported successfully!\")\n",
    "print(paste(\"Dataset contains\", nrow(messy_sales), \"rows and\", ncol(messy_sales), \"columns\"))\n",
    "cat(\"Column names:\", paste(names(messy_sales), collapse = \", \"))"
   ]
  },
  {
   "cell_type": "markdown",
   "id": "c5cc88b0",
   "metadata": {},
   "source": [
    "#### 1.3 Initial Data Assessment\n",
    "\n",
    "Perform a comprehensive inspection of the messy dataset to understand its structure and identify data quality issues."
   ]
  },
  {
   "cell_type": "code",
   "execution_count": 16,
   "id": "f2616bc0",
   "metadata": {
    "vscode": {
     "languageId": "r"
    }
   },
   "outputs": [
    {
     "name": "stdout",
     "output_type": "stream",
     "text": [
      "[1] \"=== DATASET OVERVIEW ===\"\n"
     ]
    },
    {
     "data": {
      "text/html": [
       "<table class=\"dataframe\">\n",
       "<caption>A tibble: 4 × 5</caption>\n",
       "<thead>\n",
       "\t<tr><th scope=col>Customer_Name</th><th scope=col>Product_Category</th><th scope=col>Sales_Amount</th><th scope=col>Quantity</th><th scope=col>Purchase_Date</th></tr>\n",
       "\t<tr><th scope=col>&lt;chr&gt;</th><th scope=col>&lt;chr&gt;</th><th scope=col>&lt;dbl&gt;</th><th scope=col>&lt;dbl&gt;</th><th scope=col>&lt;date&gt;</th></tr>\n",
       "</thead>\n",
       "<tbody>\n",
       "\t<tr><td>Alice</td><td>Electronics</td><td> 100</td><td> 1</td><td>2025-01-01</td></tr>\n",
       "\t<tr><td>Bob  </td><td>Furniture  </td><td>2000</td><td>10</td><td>2025-02-15</td></tr>\n",
       "\t<tr><td>NA   </td><td>electronics</td><td>  NA</td><td> 2</td><td>2025-03-10</td></tr>\n",
       "\t<tr><td>Diana</td><td>Furniture  </td><td> -50</td><td>NA</td><td>2025-04-01</td></tr>\n",
       "</tbody>\n",
       "</table>\n"
      ],
      "text/latex": [
       "A tibble: 4 × 5\n",
       "\\begin{tabular}{lllll}\n",
       " Customer\\_Name & Product\\_Category & Sales\\_Amount & Quantity & Purchase\\_Date\\\\\n",
       " <chr> & <chr> & <dbl> & <dbl> & <date>\\\\\n",
       "\\hline\n",
       "\t Alice & Electronics &  100 &  1 & 2025-01-01\\\\\n",
       "\t Bob   & Furniture   & 2000 & 10 & 2025-02-15\\\\\n",
       "\t NA    & electronics &   NA &  2 & 2025-03-10\\\\\n",
       "\t Diana & Furniture   &  -50 & NA & 2025-04-01\\\\\n",
       "\\end{tabular}\n"
      ],
      "text/markdown": [
       "\n",
       "A tibble: 4 × 5\n",
       "\n",
       "| Customer_Name &lt;chr&gt; | Product_Category &lt;chr&gt; | Sales_Amount &lt;dbl&gt; | Quantity &lt;dbl&gt; | Purchase_Date &lt;date&gt; |\n",
       "|---|---|---|---|---|\n",
       "| Alice | Electronics |  100 |  1 | 2025-01-01 |\n",
       "| Bob   | Furniture   | 2000 | 10 | 2025-02-15 |\n",
       "| NA    | electronics |   NA |  2 | 2025-03-10 |\n",
       "| Diana | Furniture   |  -50 | NA | 2025-04-01 |\n",
       "\n"
      ],
      "text/plain": [
       "  Customer_Name Product_Category Sales_Amount Quantity Purchase_Date\n",
       "1 Alice         Electronics       100          1       2025-01-01   \n",
       "2 Bob           Furniture        2000         10       2025-02-15   \n",
       "3 NA            electronics        NA          2       2025-03-10   \n",
       "4 Diana         Furniture         -50         NA       2025-04-01   "
      ]
     },
     "metadata": {},
     "output_type": "display_data"
    }
   ],
   "source": [
    "# Inspect the messy dataset\n",
    "print(\"=== DATASET OVERVIEW ===\")\n",
    "head(messy_sales, 10) # First 10 rows"
   ]
  },
  {
   "cell_type": "markdown",
   "id": "f3f0b0f6",
   "metadata": {},
   "source": [
    "# Structure and summary of the data\n",
    "print(\"=== DATA STRUCTURE ===\")\n",
    "str(messy_sales)\n",
    "\n",
    "print(\"=== SUMMARY STATISTICS ===\")\n",
    "summary(messy_sales)"
   ]
  },
  {
   "cell_type": "code",
   "execution_count": null,
   "id": "6a6ba3b1",
   "metadata": {
    "vscode": {
     "languageId": "r"
    }
   },
   "outputs": [
    {
     "ename": "ERROR",
     "evalue": "Error in parse(text = input): <text>:1:1: unexpected '^'\n1: **\n    ^\n",
     "output_type": "error",
     "traceback": [
      "Error in parse(text = input): <text>:1:1: unexpected '^'\n1: **\n    ^\nTraceback:\n"
     ]
    }
   ],
   "source": [
    "**Data Quality Assessment:**\n",
    "\n",
    "Based on the imported messy_sales dataset, document all the data quality issues you observe:\n",
    "\n",
    "1. **Missing Values:** [Look for NA values - which columns have missing data?]\n",
    "\n",
    "2. **Potential Outliers:** [Check Sales_Amount and Quantity - do any values seem extreme?]\n",
    "\n",
    "3. **Data Inconsistencies:** [Look at Product_Category - are there inconsistent naming conventions?]\n",
    "\n",
    "4. **Data Types:** [Are Purchase_Date and Sales_Amount using appropriate data types?]\n",
    "\n",
    "5. **Invalid Values:** [Are there any logically impossible values like negative quantities?]\n",
    "\n",
    "**YOUR OBSERVATIONS:**\n",
    "\n",
    "I observe the following data quality issues in the messy_sales dataset: there are missing values in the customer name and sales amount columns. There are potential outliers in the sales amount columnn with a value of 2000 which seems unusually high. There are incomplete rows with missing values in the customer name data. The product categories have incomplete rows with inconistsent naming conventions, such as \"Electronics\" and \"electronics\". The sales amount column cant have negative values, but there is a -50 value present. The purchase date column is in character foromat instead of date format. "
   ]
  },
  {
   "cell_type": "markdown",
   "id": "a9d136e7",
   "metadata": {},
   "source": [
    "---\n",
    "\n",
    "### Part 2: Missing Value Analysis and Treatment\n",
    "\n",
    "In this section, you'll identify missing values and apply different strategies to handle them."
   ]
  },
  {
   "cell_type": "markdown",
   "id": "b3c60d90",
   "metadata": {},
   "source": [
    "\n",
    "\n",
    "Complete the following tasks to thoroughly understand the missing value patterns in your dataset."
   ]
  },
  {
   "cell_type": "code",
   "execution_count": 19,
   "id": "e49897c6",
   "metadata": {
    "vscode": {
     "languageId": "r"
    }
   },
   "outputs": [
    {
     "name": "stdout",
     "output_type": "stream",
     "text": [
      "[1] \"Total missing values: 3\"\n",
      "[1] \"Missing values per column:\"\n",
      "   Customer_Name Product_Category     Sales_Amount         Quantity \n",
      "               1                0                1                1 \n",
      "   Purchase_Date \n",
      "               0 \n",
      "[1] \"Rows with missing values:\"\n"
     ]
    },
    {
     "name": "stdout",
     "output_type": "stream",
     "text": [
      "\u001b[90m# A tibble: 2 × 5\u001b[39m\n",
      "  Customer_Name Product_Category Sales_Amount Quantity Purchase_Date\n",
      "  \u001b[3m\u001b[90m<chr>\u001b[39m\u001b[23m         \u001b[3m\u001b[90m<chr>\u001b[39m\u001b[23m                   \u001b[3m\u001b[90m<dbl>\u001b[39m\u001b[23m    \u001b[3m\u001b[90m<dbl>\u001b[39m\u001b[23m \u001b[3m\u001b[90m<date>\u001b[39m\u001b[23m       \n",
      "\u001b[90m1\u001b[39m \u001b[31mNA\u001b[39m            electronics                \u001b[31mNA\u001b[39m        2 2025-03-10   \n",
      "\u001b[90m2\u001b[39m Diana         Furniture                 -\u001b[31m50\u001b[39m       \u001b[31mNA\u001b[39m 2025-04-01   \n"
     ]
    }
   ],
   "source": [
    "# TODO: Calculate total missing values in the entire dataset\n",
    "total_missing <- sum(is.na(messy_sales))# YOUR CODE HERE\n",
    "\n",
    "# TODO: Calculate missing values per column\n",
    "missing_per_column <- colSums(is.na(messy_sales))# YOUR CODE HERE\n",
    "\n",
    "# TODO: Identify rows with missing values\n",
    "incomplete_rows <- messy_sales[!complete.cases(messy_sales), ]# YOUR CODE HERE\n",
    "\n",
    "print(paste(\"Total missing values:\", total_missing))\n",
    "print(\"Missing values per column:\")\n",
    "print(missing_per_column)\n",
    "print(\"Rows with missing values:\")\n",
    "print(incomplete_rows)"
   ]
  },
  {
   "cell_type": "markdown",
   "id": "787161c8",
   "metadata": {
    "vscode": {
     "languageId": "r"
    }
   },
   "source": [
    "\"#### 2.2 Missing Value Treatment - Option A (Removal)\n",
    "\",\n",
    "\n",
    "Create a dataset with all missing value rows removed and compare the results."
   ]
  },
  {
   "cell_type": "code",
   "execution_count": 22,
   "id": "c8d24625",
   "metadata": {
    "vscode": {
     "languageId": "r"
    }
   },
   "outputs": [
    {
     "name": "stdout",
     "output_type": "stream",
     "text": [
      "[1] \"Original dataset dimensions:\"\n",
      "[1] 4 5\n",
      "[1] \"After removing NA rows:\"\n",
      "[1] 2 5\n",
      "[1] \"Rows lost: 2\"\n"
     ]
    }
   ],
   "source": [
    "# TODO: Remove all rows with missing values\n",
    "sales_removed_na <- na.omit(messy_sales)# YOUR CODE HERE\n",
    "\n",
    "# Compare dimensions\n",
    "print(\"Original dataset dimensions:\")\n",
    "print(dim(messy_sales))\n",
    "print(\"After removing NA rows:\")\n",
    "print(dim(sales_removed_na))\n",
    "print(paste(\"Rows lost:\", nrow(messy_sales) - nrow(sales_removed_na)))"
   ]
  },
  {
   "cell_type": "markdown",
   "id": "6e3704e9",
   "metadata": {},
   "source": [
    "#### 2.3 Missing Value Treatment - Option B (Imputation)\n",
    "\n",
    "\n",
    "Apply appropriate imputation strategies for different types of variables."
   ]
  },
  {
   "cell_type": "code",
   "execution_count": 23,
   "id": "a705ae02",
   "metadata": {
    "vscode": {
     "languageId": "r"
    }
   },
   "outputs": [],
   "source": [
    "## Create a copy for imputation\n",
    "sales_imputed <- messy_sales\n"
   ]
  },
  {
   "cell_type": "code",
   "execution_count": 26,
   "id": "812ae2f5",
   "metadata": {
    "vscode": {
     "languageId": "r"
    }
   },
   "outputs": [],
   "source": [
    "### TODO: Create a mode function for categorical variables\n",
    "get_mode <- function(v) {\n",
    "  uniqv <- unique(v[!is.na(v)])\n",
    "  uniqv[which.max(tabulate(match(v, uniqv)))]\n",
    "}"
   ]
  },
  {
   "cell_type": "code",
   "execution_count": 30,
   "id": "2cc223b7",
   "metadata": {
    "vscode": {
     "languageId": "r"
    }
   },
   "outputs": [],
   "source": [
    "### TODO: Impute Customer_Name with mode (for categorical missing values)\n",
    "# Impute Customer_Name with mode (for categorical missing values)\n",
    "sales_imputed$Customer_Name <- ifelse(\n",
    "  is.na(sales_imputed$Customer_Name),\n",
    "  get_mode(sales_imputed$Customer_Name),\n",
    "  sales_imputed$Customer_Name\n",
    ")"
   ]
  },
  {
   "cell_type": "code",
   "execution_count": 32,
   "id": "99d32f7d",
   "metadata": {
    "vscode": {
     "languageId": "r"
    }
   },
   "outputs": [],
   "source": [
    "# Impute Quantity with median (alternative approach for numeric data)\n",
    "sales_imputed$Quantity <- ifelse(\n",
    "  is.na(sales_imputed$Quantity),\n",
    "  median(sales_imputed$Quantity, na.rm = TRUE),\n",
    "  sales_imputed$Quantity\n",
    ")"
   ]
  },
  {
   "cell_type": "code",
   "execution_count": 33,
   "id": "4b33ef08",
   "metadata": {
    "vscode": {
     "languageId": "r"
    }
   },
   "outputs": [
    {
     "name": "stdout",
     "output_type": "stream",
     "text": [
      "[1] \"Missing values after imputation:\"\n",
      "   Customer_Name Product_Category     Sales_Amount         Quantity \n",
      "               0                0                1                0 \n",
      "   Purchase_Date \n",
      "               0 \n"
     ]
    }
   ],
   "source": [
    "### Verify imputation success\n",
    "print(\"Missing values after imputation:\")\n",
    "print(colSums(is.na(sales_imputed)))"
   ]
  },
  {
   "cell_type": "code",
   "execution_count": 34,
   "id": "1ac6fc99",
   "metadata": {
    "vscode": {
     "languageId": "r"
    }
   },
   "outputs": [],
   "source": [
    "#### 2.4 Compare Missing Value Strategies Analyze the impact of different missing value treatment approaches."
   ]
  },
  {
   "cell_type": "code",
   "execution_count": 35,
   "id": "824146f8",
   "metadata": {
    "vscode": {
     "languageId": "r"
    }
   },
   "outputs": [
    {
     "name": "stdout",
     "output_type": "stream",
     "text": [
      "[1] \"=== ORIGINAL DATA ===\"\n"
     ]
    },
    {
     "data": {
      "text/plain": [
       "   Min. 1st Qu.  Median    Mean 3rd Qu.    Max.    NA's \n",
       "  -50.0    25.0   100.0   683.3  1050.0  2000.0       1 "
      ]
     },
     "metadata": {},
     "output_type": "display_data"
    }
   ],
   "source": [
    "# Compare summary statistics\n",
    "print(\"=== ORIGINAL DATA ===\")\n",
    "summary(messy_sales$Sales_Amount)"
   ]
  },
  {
   "cell_type": "code",
   "execution_count": 36,
   "id": "e3665b24",
   "metadata": {
    "vscode": {
     "languageId": "r"
    }
   },
   "outputs": [
    {
     "name": "stdout",
     "output_type": "stream",
     "text": [
      "[1] \"=== AFTER REMOVING NAs ===\"\n"
     ]
    },
    {
     "data": {
      "text/plain": [
       "   Min. 1st Qu.  Median    Mean 3rd Qu.    Max. \n",
       "    100     575    1050    1050    1525    2000 "
      ]
     },
     "metadata": {},
     "output_type": "display_data"
    }
   ],
   "source": [
    "print(\"=== AFTER REMOVING NAs ===\")\n",
    "summary(sales_removed_na$Sales_Amount)"
   ]
  },
  {
   "cell_type": "code",
   "execution_count": 37,
   "id": "d60582ad",
   "metadata": {
    "vscode": {
     "languageId": "r"
    }
   },
   "outputs": [
    {
     "name": "stdout",
     "output_type": "stream",
     "text": [
      "[1] \"=== AFTER IMPUTATION ===\"\n"
     ]
    },
    {
     "data": {
      "text/plain": [
       "   Min. 1st Qu.  Median    Mean 3rd Qu.    Max.    NA's \n",
       "  -50.0    25.0   100.0   683.3  1050.0  2000.0       1 "
      ]
     },
     "metadata": {},
     "output_type": "display_data"
    }
   ],
   "source": [
    "print(\"=== AFTER IMPUTATION ===\")\n",
    "summary(sales_imputed$Sales_Amount)"
   ]
  },
  {
   "cell_type": "markdown",
   "id": "15bf4a1d",
   "metadata": {},
   "source": [
    "\n",
    "**Analysis Questions:**\n",
    "\n",
    "1. **Which approach would you recommend for this dataset and why?**\n",
    "\n",
    "I would recommend the imputation approach for this dataset. This is because removing rows with missing values can lead to significant data loss, especially if the missing values are not random. Imputation allows us to retain more data and can provide a more accurate representation of the dataset.\n",
    "\n",
    "2. **What are the trade-offs between removal and imputation?**\n",
    "\n",
    "The trade-offs between removal and imputation include:\n",
    "- Removal can lead to loss of valuable information and may introduce bias if the missing data is not random.\n",
    "- -Imputation can introduce its own biases if the imputation method is not appropriate for the data. It also assumes that the missing data can be accurately estimated, which may not always be the case."
   ]
  },
  {
   "cell_type": "markdown",
   "id": "33a50824",
   "metadata": {},
   "source": [
    "---\n",
    "\n",
    "\"### Part 3: Outlier Detection and Treatment\n",
    "\",\n",
    "\n",
    "Using your imputed dataset, identify and handle outliers in the Sales_Amount variable."
   ]
  },
  {
   "cell_type": "code",
   "execution_count": 39,
   "id": "737913d7",
   "metadata": {
    "vscode": {
     "languageId": "r"
    }
   },
   "outputs": [],
   "source": [
    "# 3.1 Outlier Detection Using IQR Method\n",
    "\n",
    "# Calculate quartiles and IQR for Sales_Amount\n",
    "Q1_sales <- quantile(sales_imputed$Sales_Amount, 0.25, na.rm = TRUE)\n",
    "Q3_sales <- quantile(sales_imputed$Sales_Amount, 0.75, na.rm = TRUE)\n",
    "IQR_sales <- IQR(sales_imputed$Sales_Amount, na.rm = TRUE)"
   ]
  },
  {
   "cell_type": "code",
   "execution_count": 41,
   "id": "9fbae5a6",
   "metadata": {
    "vscode": {
     "languageId": "r"
    }
   },
   "outputs": [],
   "source": [
    "### TODO: Calculate quartiles and IQR for Sales_Amount\n",
    "Q1_sales <- quantile(sales_imputed$Sales_Amount, 0.25, na.rm = TRUE)\n",
    "Q3_sales <- quantile(sales_imputed$Sales_Amount, 0.75, na.rm = TRUE)\n",
    "IQR_sales <- IQR(sales_imputed$Sales_Amount, na.rm = TRUE)"
   ]
  },
  {
   "cell_type": "code",
   "execution_count": 43,
   "id": "cc30ca3c",
   "metadata": {
    "vscode": {
     "languageId": "r"
    }
   },
   "outputs": [],
   "source": [
    "### TODO: Calculate outlier thresholds\n",
    "upper_threshold <- Q3_sales + 1.5 * IQR_sales\n",
    "lower_threshold <- Q1_sales - 1.5 * IQR_sales"
   ]
  },
  {
   "cell_type": "code",
   "execution_count": 45,
   "id": "f782a224",
   "metadata": {
    "vscode": {
     "languageId": "r"
    }
   },
   "outputs": [
    {
     "name": "stdout",
     "output_type": "stream",
     "text": [
      "[1] \"Q1: 25\"\n",
      "[1] \"Q3: 1050\"\n",
      "[1] \"IQR: 1025\"\n",
      "[1] \"Lower threshold: -1512.5\"\n",
      "[1] \"Upper threshold: 2587.5\"\n",
      "[1] \"Number of outliers found: 0\"\n",
      "[1] \"Outlier rows:\"\n",
      "\u001b[90m# A tibble: 0 × 5\u001b[39m\n",
      "\u001b[90m# ℹ 5 variables: Customer_Name <chr>, Product_Category <chr>,\u001b[39m\n",
      "\u001b[90m#   Sales_Amount <dbl>, Quantity <dbl>, Purchase_Date <date>\u001b[39m\n"
     ]
    }
   ],
   "source": [
    "### TODO: Identify outliers\n",
    "outliers <- sales_imputed %>%\n",
    "  filter(Sales_Amount < lower_threshold | Sales_Amount > upper_threshold)# YOUR CODE HERE\n",
    "\n",
    "print(paste(\"Q1:\", Q1_sales))\n",
    "print(paste(\"Q3:\", Q3_sales))\n",
    "print(paste(\"IQR:\", IQR_sales))\n",
    "print(paste(\"Lower threshold:\", lower_threshold))\n",
    "print(paste(\"Upper threshold:\", upper_threshold))\n",
    "print(paste(\"Number of outliers found:\", nrow(outliers)))\n",
    "print(\"Outlier rows:\")\n",
    "print(outliers)"
   ]
  },
  {
   "cell_type": "markdown",
   "id": "41902067",
   "metadata": {},
   "source": [
    "### 3.2 Outlier Visualization\n",
    "\n",
    "Create a boxplot to visualize the outliers in Sales_Amount."
   ]
  },
  {
   "cell_type": "code",
   "execution_count": 47,
   "id": "473e77cb",
   "metadata": {
    "vscode": {
     "languageId": "r"
    }
   },
   "outputs": [
    {
     "name": "stderr",
     "output_type": "stream",
     "text": [
      "Warning message:\n",
      "“\u001b[1m\u001b[22mRemoved 1 row containing non-finite outside the scale range (`stat_boxplot()`).”\n"
     ]
    },
    {
     "data": {
      "application/pdf": "[encoded data removed]",
      "image/jpeg": "[encoded data removed]",
      "image/png": "[encoded data removed]",
      "image/svg+xml": [
       "<?xml version=\"1.0\" encoding=\"UTF-8\"?>\n",
       "<svg xmlns=\"http://www.w3.org/2000/svg\" xmlns:xlink=\"http://www.w3.org/1999/xlink\" width=\"504\" height=\"504\" viewBox=\"0 0 504 504\">\n",
       "<defs>\n",
       "<g>\n",
       "<g id=\"glyph-0-0\">\n",
       "<path d=\"M 4.546875 -3.03125 C 4.546875 -2.019531 4.367188 -1.25 4.015625 -0.71875 C 3.660156 -0.1875 3.132812 0.078125 2.4375 0.078125 C 1.738281 0.078125 1.210938 -0.179688 0.859375 -0.703125 C 0.515625 -1.234375 0.34375 -2.007812 0.34375 -3.03125 C 0.34375 -4.070312 0.507812 -4.847656 0.84375 -5.359375 C 1.1875 -5.878906 1.726562 -6.140625 2.46875 -6.140625 C 3.175781 -6.140625 3.695312 -5.875 4.03125 -5.34375 C 4.375 -4.820312 4.546875 -4.050781 4.546875 -3.03125 Z M 3.765625 -3.03125 C 3.765625 -3.90625 3.660156 -4.535156 3.453125 -4.921875 C 3.253906 -5.316406 2.925781 -5.515625 2.46875 -5.515625 C 1.988281 -5.515625 1.644531 -5.320312 1.4375 -4.9375 C 1.226562 -4.550781 1.125 -3.914062 1.125 -3.03125 C 1.125 -2.164062 1.226562 -1.535156 1.4375 -1.140625 C 1.644531 -0.742188 1.976562 -0.546875 2.4375 -0.546875 C 2.894531 -0.546875 3.226562 -0.75 3.4375 -1.15625 C 3.65625 -1.5625 3.765625 -2.1875 3.765625 -3.03125 Z M 3.765625 -3.03125 \"/>\n",
       "</g>\n",
       "<g id=\"glyph-0-1\">\n",
       "<path d=\"M 4.515625 -1.96875 C 4.515625 -1.332031 4.328125 -0.832031 3.953125 -0.46875 C 3.578125 -0.101562 3.050781 0.078125 2.375 0.078125 C 1.8125 0.078125 1.351562 -0.0390625 1 -0.28125 C 0.65625 -0.53125 0.441406 -0.890625 0.359375 -1.359375 L 1.140625 -1.4375 C 1.296875 -0.84375 1.710938 -0.546875 2.390625 -0.546875 C 2.804688 -0.546875 3.128906 -0.671875 3.359375 -0.921875 C 3.597656 -1.171875 3.71875 -1.515625 3.71875 -1.953125 C 3.71875 -2.335938 3.597656 -2.644531 3.359375 -2.875 C 3.128906 -3.113281 2.8125 -3.234375 2.40625 -3.234375 C 2.195312 -3.234375 2.003906 -3.195312 1.828125 -3.125 C 1.648438 -3.0625 1.46875 -2.953125 1.28125 -2.796875 L 0.53125 -2.796875 L 0.734375 -6.046875 L 4.171875 -6.046875 L 4.171875 -5.390625 L 1.4375 -5.390625 L 1.3125 -3.46875 C 1.65625 -3.726562 2.070312 -3.859375 2.5625 -3.859375 C 3.164062 -3.859375 3.640625 -3.679688 3.984375 -3.328125 C 4.335938 -2.984375 4.515625 -2.53125 4.515625 -1.96875 Z M 4.515625 -1.96875 \"/>\n",
       "</g>\n",
       "<g id=\"glyph-0-2\">\n",
       "<path d=\"M 0.671875 0 L 0.671875 -0.65625 L 2.21875 -0.65625 L 2.21875 -5.3125 L 0.84375 -4.34375 L 0.84375 -5.0625 L 2.28125 -6.046875 L 2.984375 -6.046875 L 2.984375 -0.65625 L 4.46875 -0.65625 L 4.46875 0 Z M 0.671875 0 \"/>\n",
       "</g>\n",
       "<g id=\"glyph-0-3\">\n",
       "<path d=\"M 0.4375 0 L 0.4375 -0.546875 C 0.582031 -0.878906 0.757812 -1.171875 0.96875 -1.421875 C 1.1875 -1.679688 1.410156 -1.914062 1.640625 -2.125 C 1.867188 -2.332031 2.097656 -2.523438 2.328125 -2.703125 C 2.554688 -2.878906 2.757812 -3.054688 2.9375 -3.234375 C 3.125 -3.410156 3.273438 -3.597656 3.390625 -3.796875 C 3.503906 -3.992188 3.5625 -4.210938 3.5625 -4.453125 C 3.5625 -4.785156 3.460938 -5.039062 3.265625 -5.21875 C 3.078125 -5.40625 2.804688 -5.5 2.453125 -5.5 C 2.128906 -5.5 1.859375 -5.410156 1.640625 -5.234375 C 1.429688 -5.054688 1.304688 -4.804688 1.265625 -4.484375 L 0.484375 -4.5625 C 0.535156 -5.039062 0.738281 -5.421875 1.09375 -5.703125 C 1.445312 -5.992188 1.898438 -6.140625 2.453125 -6.140625 C 3.066406 -6.140625 3.535156 -5.992188 3.859375 -5.703125 C 4.191406 -5.421875 4.359375 -5.015625 4.359375 -4.484375 C 4.359375 -4.242188 4.300781 -4.007812 4.1875 -3.78125 C 4.082031 -3.550781 3.921875 -3.316406 3.703125 -3.078125 C 3.492188 -2.847656 3.09375 -2.492188 2.5 -2.015625 C 2.164062 -1.742188 1.898438 -1.5 1.703125 -1.28125 C 1.515625 -1.0625 1.378906 -0.851562 1.296875 -0.65625 L 4.453125 -0.65625 L 4.453125 0 Z M 0.4375 0 \"/>\n",
       "</g>\n",
       "<g id=\"glyph-0-4\">\n",
       "<path d=\"M 0.390625 -2 L 0.390625 -2.6875 L 2.53125 -2.6875 L 2.53125 -2 Z M 0.390625 -2 \"/>\n",
       "</g>\n",
       "<g id=\"glyph-0-5\">\n",
       "<path d=\"M 0.796875 0 L 0.796875 -0.9375 L 1.640625 -0.9375 L 1.640625 0 Z M 0.796875 0 \"/>\n",
       "</g>\n",
       "<g id=\"glyph-0-6\">\n",
       "<path d=\"M 3.78125 -1.375 L 3.78125 0 L 3.046875 0 L 3.046875 -1.375 L 0.203125 -1.375 L 0.203125 -1.96875 L 2.96875 -6.046875 L 3.78125 -6.046875 L 3.78125 -1.984375 L 4.640625 -1.984375 L 4.640625 -1.375 Z M 3.046875 -5.1875 C 3.046875 -5.164062 3.007812 -5.085938 2.9375 -4.953125 C 2.863281 -4.816406 2.804688 -4.722656 2.765625 -4.671875 L 1.21875 -2.390625 L 0.984375 -2.0625 L 0.921875 -1.984375 L 3.046875 -1.984375 Z M 3.046875 -5.1875 \"/>\n",
       "</g>\n",
       "<g id=\"glyph-1-0\">\n",
       "<path d=\"M -2.09375 -6.828125 C -1.394531 -6.828125 -0.851562 -6.550781 -0.46875 -6 C -0.0820312 -5.457031 0.109375 -4.691406 0.109375 -3.703125 C 0.109375 -1.859375 -0.53125 -0.789062 -1.8125 -0.5 L -2.015625 -1.5 C -1.554688 -1.613281 -1.21875 -1.851562 -1 -2.21875 C -0.789062 -2.59375 -0.6875 -3.101562 -0.6875 -3.75 C -0.6875 -4.40625 -0.800781 -4.910156 -1.03125 -5.265625 C -1.257812 -5.628906 -1.59375 -5.8125 -2.03125 -5.8125 C -2.28125 -5.8125 -2.484375 -5.753906 -2.640625 -5.640625 C -2.796875 -5.535156 -2.921875 -5.378906 -3.015625 -5.171875 C -3.117188 -4.960938 -3.203125 -4.71875 -3.265625 -4.4375 C -3.335938 -4.15625 -3.410156 -3.84375 -3.484375 -3.5 C -3.617188 -2.90625 -3.753906 -2.453125 -3.890625 -2.140625 C -4.023438 -1.828125 -4.171875 -1.582031 -4.328125 -1.40625 C -4.492188 -1.226562 -4.6875 -1.09375 -4.90625 -1 C -5.125 -0.90625 -5.375 -0.859375 -5.65625 -0.859375 C -6.300781 -0.859375 -6.800781 -1.101562 -7.15625 -1.59375 C -7.507812 -2.09375 -7.6875 -2.804688 -7.6875 -3.734375 C -7.6875 -4.585938 -7.550781 -5.238281 -7.28125 -5.6875 C -7.019531 -6.144531 -6.570312 -6.46875 -5.9375 -6.65625 L -5.765625 -5.640625 C -6.160156 -5.535156 -6.445312 -5.328125 -6.625 -5.015625 C -6.8125 -4.703125 -6.90625 -4.269531 -6.90625 -3.71875 C -6.90625 -3.113281 -6.804688 -2.648438 -6.609375 -2.328125 C -6.410156 -2.015625 -6.109375 -1.859375 -5.703125 -1.859375 C -5.472656 -1.859375 -5.28125 -1.914062 -5.125 -2.03125 C -4.976562 -2.15625 -4.851562 -2.332031 -4.75 -2.5625 C -4.644531 -2.800781 -4.515625 -3.269531 -4.359375 -3.96875 C -4.304688 -4.195312 -4.25 -4.425781 -4.1875 -4.65625 C -4.132812 -4.882812 -4.066406 -5.101562 -3.984375 -5.3125 C -3.910156 -5.53125 -3.820312 -5.726562 -3.71875 -5.90625 C -3.613281 -6.09375 -3.484375 -6.253906 -3.328125 -6.390625 C -3.179688 -6.523438 -3.003906 -6.628906 -2.796875 -6.703125 C -2.597656 -6.785156 -2.363281 -6.828125 -2.09375 -6.828125 Z M -2.09375 -6.828125 \"/>\n",
       "</g>\n",
       "<g id=\"glyph-1-1\">\n",
       "<path d=\"M 0.109375 -2.21875 C 0.109375 -1.632812 -0.0390625 -1.195312 -0.34375 -0.90625 C -0.65625 -0.613281 -1.082031 -0.46875 -1.625 -0.46875 C -2.226562 -0.46875 -2.6875 -0.664062 -3 -1.0625 C -3.320312 -1.457031 -3.5 -2.09375 -3.53125 -2.96875 L -3.546875 -4.28125 L -3.859375 -4.28125 C -4.335938 -4.28125 -4.675781 -4.175781 -4.875 -3.96875 C -5.082031 -3.769531 -5.1875 -3.457031 -5.1875 -3.03125 C -5.1875 -2.601562 -5.113281 -2.289062 -4.96875 -2.09375 C -4.820312 -1.894531 -4.585938 -1.773438 -4.265625 -1.734375 L -4.34375 -0.71875 C -5.394531 -0.882812 -5.921875 -1.664062 -5.921875 -3.0625 C -5.921875 -3.789062 -5.753906 -4.335938 -5.421875 -4.703125 C -5.085938 -5.078125 -4.601562 -5.265625 -3.96875 -5.265625 L -1.46875 -5.265625 C -1.175781 -5.265625 -0.957031 -5.300781 -0.8125 -5.375 C -0.664062 -5.445312 -0.59375 -5.585938 -0.59375 -5.796875 C -0.59375 -5.890625 -0.609375 -6 -0.640625 -6.125 L -0.03125 -6.125 C 0.0195312 -5.875 0.046875 -5.625 0.046875 -5.375 C 0.046875 -5.007812 -0.046875 -4.742188 -0.234375 -4.578125 C -0.421875 -4.421875 -0.710938 -4.332031 -1.109375 -4.3125 L -1.109375 -4.28125 C -0.671875 -4.03125 -0.359375 -3.738281 -0.171875 -3.40625 C 0.015625 -3.082031 0.109375 -2.6875 0.109375 -2.21875 Z M -0.625 -2.4375 C -0.625 -2.789062 -0.703125 -3.101562 -0.859375 -3.375 C -1.015625 -3.65625 -1.234375 -3.875 -1.515625 -4.03125 C -1.796875 -4.195312 -2.085938 -4.28125 -2.390625 -4.28125 L -2.875 -4.28125 L -2.84375 -3.21875 C -2.84375 -2.769531 -2.796875 -2.425781 -2.703125 -2.1875 C -2.617188 -1.957031 -2.488281 -1.78125 -2.3125 -1.65625 C -2.132812 -1.53125 -1.898438 -1.46875 -1.609375 -1.46875 C -1.296875 -1.46875 -1.050781 -1.550781 -0.875 -1.71875 C -0.707031 -1.882812 -0.625 -2.125 -0.625 -2.4375 Z M -0.625 -2.4375 \"/>\n",
       "</g>\n",
       "<g id=\"glyph-1-2\">\n",
       "<path d=\"M 0 -0.734375 L -7.96875 -0.734375 L -7.96875 -1.703125 L 0 -1.703125 Z M 0 -0.734375 \"/>\n",
       "</g>\n",
       "<g id=\"glyph-1-3\">\n",
       "<path d=\"M -2.703125 -1.484375 C -2.035156 -1.484375 -1.519531 -1.617188 -1.15625 -1.890625 C -0.800781 -2.171875 -0.625 -2.578125 -0.625 -3.109375 C -0.625 -3.523438 -0.707031 -3.859375 -0.875 -4.109375 C -1.039062 -4.359375 -1.253906 -4.53125 -1.515625 -4.625 L -1.265625 -5.46875 C -0.347656 -5.125 0.109375 -4.335938 0.109375 -3.109375 C 0.109375 -2.242188 -0.144531 -1.585938 -0.65625 -1.140625 C -1.164062 -0.691406 -1.925781 -0.46875 -2.9375 -0.46875 C -3.90625 -0.46875 -4.644531 -0.691406 -5.15625 -1.140625 C -5.664062 -1.585938 -5.921875 -2.226562 -5.921875 -3.0625 C -5.921875 -4.769531 -4.890625 -5.625 -2.828125 -5.625 L -2.703125 -5.625 Z M -3.4375 -4.625 C -4.050781 -4.570312 -4.5 -4.414062 -4.78125 -4.15625 C -5.0625 -3.90625 -5.203125 -3.535156 -5.203125 -3.046875 C -5.203125 -2.578125 -5.046875 -2.207031 -4.734375 -1.9375 C -4.421875 -1.664062 -3.988281 -1.519531 -3.4375 -1.5 Z M -3.4375 -4.625 \"/>\n",
       "</g>\n",
       "<g id=\"glyph-1-4\">\n",
       "<path d=\"M -1.609375 -5.109375 C -1.054688 -5.109375 -0.628906 -4.898438 -0.328125 -4.484375 C -0.0351562 -4.066406 0.109375 -3.488281 0.109375 -2.75 C 0.109375 -2.019531 -0.0078125 -1.457031 -0.25 -1.0625 C -0.488281 -0.675781 -0.859375 -0.425781 -1.359375 -0.3125 L -1.53125 -1.15625 C -1.21875 -1.238281 -0.988281 -1.410156 -0.84375 -1.671875 C -0.695312 -1.929688 -0.625 -2.289062 -0.625 -2.75 C -0.625 -3.238281 -0.695312 -3.59375 -0.84375 -3.8125 C -1 -4.039062 -1.226562 -4.15625 -1.53125 -4.15625 C -1.757812 -4.15625 -1.941406 -4.078125 -2.078125 -3.921875 C -2.222656 -3.765625 -2.34375 -3.507812 -2.4375 -3.15625 L -2.625 -2.46875 C -2.769531 -1.914062 -2.910156 -1.519531 -3.046875 -1.28125 C -3.179688 -1.050781 -3.347656 -0.867188 -3.546875 -0.734375 C -3.742188 -0.597656 -3.988281 -0.53125 -4.28125 -0.53125 C -4.8125 -0.53125 -5.210938 -0.71875 -5.484375 -1.09375 C -5.765625 -1.476562 -5.90625 -2.03125 -5.90625 -2.75 C -5.90625 -3.394531 -5.789062 -3.90625 -5.5625 -4.28125 C -5.332031 -4.65625 -4.972656 -4.894531 -4.484375 -5 L -4.375 -4.125 C -4.632812 -4.070312 -4.832031 -3.925781 -4.96875 -3.6875 C -5.101562 -3.457031 -5.171875 -3.144531 -5.171875 -2.75 C -5.171875 -2.3125 -5.101562 -1.988281 -4.96875 -1.78125 C -4.84375 -1.582031 -4.644531 -1.484375 -4.375 -1.484375 C -4.207031 -1.484375 -4.066406 -1.523438 -3.953125 -1.609375 C -3.847656 -1.691406 -3.757812 -1.816406 -3.6875 -1.984375 C -3.613281 -2.148438 -3.507812 -2.503906 -3.375 -3.046875 C -3.25 -3.554688 -3.128906 -3.925781 -3.015625 -4.15625 C -2.910156 -4.382812 -2.789062 -4.5625 -2.65625 -4.6875 C -2.519531 -4.820312 -2.363281 -4.925781 -2.1875 -5 C -2.019531 -5.070312 -1.828125 -5.109375 -1.609375 -5.109375 Z M -1.609375 -5.109375 \"/>\n",
       "</g>\n",
       "<g id=\"glyph-1-5\">\n",
       "<path d=\"M 2.1875 0.171875 L 1.484375 0.171875 L 1.484375 -6.234375 L 2.1875 -6.234375 Z M 2.1875 0.171875 \"/>\n",
       "</g>\n",
       "<g id=\"glyph-1-6\">\n",
       "<path d=\"M 0 -6.265625 L -2.21875 -5.40625 L -2.21875 -1.953125 L 0 -1.078125 L 0 -0.015625 L -7.5625 -3.109375 L -7.5625 -4.28125 L 0 -7.3125 Z M -6.796875 -3.671875 L -6.640625 -3.625 C -6.347656 -3.539062 -5.96875 -3.410156 -5.5 -3.234375 L -3.015625 -2.265625 L -3.015625 -5.09375 L -5.515625 -4.125 C -5.753906 -4.019531 -6.03125 -3.921875 -6.34375 -3.828125 Z M -6.796875 -3.671875 \"/>\n",
       "</g>\n",
       "<g id=\"glyph-1-7\">\n",
       "<path d=\"M 0 -4.125 L -3.6875 -4.125 C -4.25 -4.125 -4.632812 -4.046875 -4.84375 -3.890625 C -5.0625 -3.734375 -5.171875 -3.457031 -5.171875 -3.0625 C -5.171875 -2.644531 -5.015625 -2.316406 -4.703125 -2.078125 C -4.390625 -1.835938 -3.945312 -1.71875 -3.375 -1.71875 L 0 -1.71875 L 0 -0.765625 L -4.578125 -0.765625 C -5.253906 -0.765625 -5.664062 -0.753906 -5.8125 -0.734375 L -5.8125 -1.640625 C -5.789062 -1.648438 -5.738281 -1.65625 -5.65625 -1.65625 C -5.582031 -1.65625 -5.492188 -1.65625 -5.390625 -1.65625 C -5.296875 -1.664062 -5.101562 -1.675781 -4.8125 -1.6875 L -4.8125 -1.703125 C -5.226562 -1.910156 -5.515625 -2.144531 -5.671875 -2.40625 C -5.835938 -2.675781 -5.921875 -3.007812 -5.921875 -3.40625 C -5.921875 -3.84375 -5.832031 -4.1875 -5.65625 -4.4375 C -5.476562 -4.695312 -5.195312 -4.878906 -4.8125 -4.984375 L -4.8125 -5 C -5.207031 -5.195312 -5.488281 -5.4375 -5.65625 -5.71875 C -5.832031 -6.007812 -5.921875 -6.351562 -5.921875 -6.75 C -5.921875 -7.34375 -5.757812 -7.769531 -5.4375 -8.03125 C -5.125 -8.300781 -4.601562 -8.4375 -3.875 -8.4375 L 0 -8.4375 L 0 -7.484375 L -3.6875 -7.484375 C -4.25 -7.484375 -4.632812 -7.40625 -4.84375 -7.25 C -5.0625 -7.09375 -5.171875 -6.816406 -5.171875 -6.421875 C -5.171875 -5.992188 -5.015625 -5.660156 -4.703125 -5.421875 C -4.390625 -5.191406 -3.945312 -5.078125 -3.375 -5.078125 L 0 -5.078125 Z M 0 -4.125 \"/>\n",
       "</g>\n",
       "<g id=\"glyph-1-8\">\n",
       "<path d=\"M -2.90625 -5.65625 C -1.894531 -5.65625 -1.140625 -5.429688 -0.640625 -4.984375 C -0.140625 -4.535156 0.109375 -3.882812 0.109375 -3.03125 C 0.109375 -2.1875 -0.144531 -1.546875 -0.65625 -1.109375 C -1.175781 -0.679688 -1.925781 -0.46875 -2.90625 -0.46875 C -4.914062 -0.46875 -5.921875 -1.332031 -5.921875 -3.0625 C -5.921875 -3.957031 -5.675781 -4.613281 -5.1875 -5.03125 C -4.695312 -5.445312 -3.9375 -5.65625 -2.90625 -5.65625 Z M -2.90625 -4.640625 C -3.707031 -4.640625 -4.289062 -4.519531 -4.65625 -4.28125 C -5.019531 -4.039062 -5.203125 -3.640625 -5.203125 -3.078125 C -5.203125 -2.515625 -5.015625 -2.109375 -4.640625 -1.859375 C -4.273438 -1.609375 -3.695312 -1.484375 -2.90625 -1.484375 C -2.144531 -1.484375 -1.570312 -1.601562 -1.1875 -1.84375 C -0.800781 -2.09375 -0.609375 -2.488281 -0.609375 -3.03125 C -0.609375 -3.601562 -0.789062 -4.015625 -1.15625 -4.265625 C -1.53125 -4.515625 -2.113281 -4.640625 -2.90625 -4.640625 Z M -2.90625 -4.640625 \"/>\n",
       "</g>\n",
       "<g id=\"glyph-1-9\">\n",
       "<path d=\"M -5.8125 -1.6875 L -2.125 -1.6875 C -1.738281 -1.6875 -1.441406 -1.722656 -1.234375 -1.796875 C -1.023438 -1.867188 -0.875 -1.988281 -0.78125 -2.15625 C -0.6875 -2.320312 -0.640625 -2.566406 -0.640625 -2.890625 C -0.640625 -3.347656 -0.796875 -3.710938 -1.109375 -3.984375 C -1.429688 -4.253906 -1.875 -4.390625 -2.4375 -4.390625 L -5.8125 -4.390625 L -5.8125 -5.359375 L -1.234375 -5.359375 C -0.554688 -5.359375 -0.144531 -5.367188 0 -5.390625 L 0 -4.46875 C -0.0195312 -4.46875 -0.0664062 -4.460938 -0.140625 -4.453125 C -0.222656 -4.453125 -0.3125 -4.445312 -0.40625 -4.4375 C -0.507812 -4.4375 -0.707031 -4.4375 -1 -4.4375 L -1 -4.421875 C -0.59375 -4.191406 -0.304688 -3.929688 -0.140625 -3.640625 C 0.0234375 -3.347656 0.109375 -2.988281 0.109375 -2.5625 C 0.109375 -1.914062 -0.046875 -1.445312 -0.359375 -1.15625 C -0.679688 -0.863281 -1.207031 -0.71875 -1.9375 -0.71875 L -5.8125 -0.71875 Z M -5.8125 -1.6875 \"/>\n",
       "</g>\n",
       "<g id=\"glyph-1-10\">\n",
       "<path d=\"M 0 -4.4375 L -3.6875 -4.4375 C -4.070312 -4.4375 -4.367188 -4.394531 -4.578125 -4.3125 C -4.785156 -4.238281 -4.9375 -4.117188 -5.03125 -3.953125 C -5.125 -3.796875 -5.171875 -3.554688 -5.171875 -3.234375 C -5.171875 -2.765625 -5.007812 -2.394531 -4.6875 -2.125 C -4.375 -1.863281 -3.9375 -1.734375 -3.375 -1.734375 L 0 -1.734375 L 0 -0.765625 L -4.578125 -0.765625 C -5.253906 -0.765625 -5.664062 -0.753906 -5.8125 -0.734375 L -5.8125 -1.640625 C -5.789062 -1.648438 -5.738281 -1.65625 -5.65625 -1.65625 C -5.582031 -1.65625 -5.492188 -1.65625 -5.390625 -1.65625 C -5.296875 -1.664062 -5.101562 -1.675781 -4.8125 -1.6875 L -4.8125 -1.703125 C -5.21875 -1.921875 -5.503906 -2.175781 -5.671875 -2.46875 C -5.835938 -2.757812 -5.921875 -3.125 -5.921875 -3.5625 C -5.921875 -4.195312 -5.757812 -4.660156 -5.4375 -4.953125 C -5.125 -5.253906 -4.601562 -5.40625 -3.875 -5.40625 L 0 -5.40625 Z M 0 -4.4375 \"/>\n",
       "</g>\n",
       "<g id=\"glyph-1-11\">\n",
       "<path d=\"M -0.046875 -2.96875 C 0.046875 -2.65625 0.09375 -2.332031 0.09375 -2 C 0.09375 -1.226562 -0.347656 -0.84375 -1.234375 -0.84375 L -5.109375 -0.84375 L -5.109375 -0.171875 L -5.8125 -0.171875 L -5.8125 -0.875 L -7.109375 -1.15625 L -7.109375 -1.8125 L -5.8125 -1.8125 L -5.8125 -2.875 L -5.109375 -2.875 L -5.109375 -1.8125 L -1.4375 -1.8125 C -1.15625 -1.8125 -0.957031 -1.851562 -0.84375 -1.9375 C -0.738281 -2.03125 -0.6875 -2.191406 -0.6875 -2.421875 C -0.6875 -2.546875 -0.707031 -2.726562 -0.75 -2.96875 Z M -0.046875 -2.96875 \"/>\n",
       "</g>\n",
       "<g id=\"glyph-2-0\">\n",
       "<path d=\"M 8.203125 -2.515625 C 8.203125 -1.671875 7.875 -1.019531 7.21875 -0.5625 C 6.5625 -0.101562 5.640625 0.125 4.453125 0.125 C 2.234375 0.125 0.945312 -0.640625 0.59375 -2.171875 L 1.796875 -2.421875 C 1.929688 -1.867188 2.222656 -1.460938 2.671875 -1.203125 C 3.117188 -0.953125 3.726562 -0.828125 4.5 -0.828125 C 5.289062 -0.828125 5.898438 -0.960938 6.328125 -1.234375 C 6.765625 -1.515625 6.984375 -1.914062 6.984375 -2.4375 C 6.984375 -2.738281 6.914062 -2.976562 6.78125 -3.15625 C 6.644531 -3.34375 6.453125 -3.492188 6.203125 -3.609375 C 5.960938 -3.734375 5.671875 -3.835938 5.328125 -3.921875 C 4.992188 -4.003906 4.617188 -4.09375 4.203125 -4.1875 C 3.484375 -4.34375 2.9375 -4.5 2.5625 -4.65625 C 2.195312 -4.820312 1.90625 -5.003906 1.6875 -5.203125 C 1.46875 -5.398438 1.300781 -5.628906 1.1875 -5.890625 C 1.082031 -6.148438 1.03125 -6.445312 1.03125 -6.78125 C 1.03125 -7.5625 1.328125 -8.160156 1.921875 -8.578125 C 2.515625 -9.003906 3.363281 -9.21875 4.46875 -9.21875 C 5.5 -9.21875 6.285156 -9.054688 6.828125 -8.734375 C 7.378906 -8.421875 7.765625 -7.882812 7.984375 -7.125 L 6.78125 -6.921875 C 6.644531 -7.398438 6.390625 -7.75 6.015625 -7.96875 C 5.640625 -8.1875 5.125 -8.296875 4.46875 -8.296875 C 3.738281 -8.296875 3.179688 -8.171875 2.796875 -7.921875 C 2.410156 -7.679688 2.21875 -7.328125 2.21875 -6.859375 C 2.21875 -6.578125 2.289062 -6.34375 2.4375 -6.15625 C 2.59375 -5.976562 2.804688 -5.820312 3.078125 -5.6875 C 3.359375 -5.5625 3.914062 -5.410156 4.75 -5.234375 C 5.03125 -5.160156 5.3125 -5.09375 5.59375 -5.03125 C 5.875 -4.96875 6.140625 -4.890625 6.390625 -4.796875 C 6.640625 -4.703125 6.875 -4.59375 7.09375 -4.46875 C 7.320312 -4.34375 7.515625 -4.1875 7.671875 -4 C 7.835938 -3.820312 7.96875 -3.609375 8.0625 -3.359375 C 8.15625 -3.117188 8.203125 -2.835938 8.203125 -2.515625 Z M 8.203125 -2.515625 \"/>\n",
       "</g>\n",
       "<g id=\"glyph-2-1\">\n",
       "<path d=\"M 2.671875 0.125 C 1.972656 0.125 1.445312 -0.0546875 1.09375 -0.421875 C 0.738281 -0.796875 0.5625 -1.304688 0.5625 -1.953125 C 0.5625 -2.671875 0.796875 -3.222656 1.265625 -3.609375 C 1.742188 -3.992188 2.515625 -4.203125 3.578125 -4.234375 L 5.140625 -4.25 L 5.140625 -4.640625 C 5.140625 -5.203125 5.019531 -5.601562 4.78125 -5.84375 C 4.539062 -6.09375 4.160156 -6.21875 3.640625 -6.21875 C 3.117188 -6.21875 2.738281 -6.128906 2.5 -5.953125 C 2.269531 -5.773438 2.128906 -5.492188 2.078125 -5.109375 L 0.875 -5.21875 C 1.070312 -6.476562 2.003906 -7.109375 3.671875 -7.109375 C 4.546875 -7.109375 5.203125 -6.90625 5.640625 -6.5 C 6.085938 -6.101562 6.3125 -5.519531 6.3125 -4.75 L 6.3125 -1.75 C 6.3125 -1.40625 6.351562 -1.144531 6.4375 -0.96875 C 6.53125 -0.800781 6.707031 -0.71875 6.96875 -0.71875 C 7.070312 -0.71875 7.195312 -0.734375 7.34375 -0.765625 L 7.34375 -0.03125 C 7.050781 0.03125 6.753906 0.0625 6.453125 0.0625 C 6.015625 0.0625 5.695312 -0.046875 5.5 -0.265625 C 5.3125 -0.492188 5.203125 -0.847656 5.171875 -1.328125 L 5.140625 -1.328125 C 4.835938 -0.796875 4.488281 -0.421875 4.09375 -0.203125 C 3.707031 0.015625 3.234375 0.125 2.671875 0.125 Z M 2.9375 -0.734375 C 3.363281 -0.734375 3.738281 -0.832031 4.0625 -1.03125 C 4.394531 -1.226562 4.65625 -1.492188 4.84375 -1.828125 C 5.039062 -2.160156 5.140625 -2.507812 5.140625 -2.875 L 5.140625 -3.4375 L 3.875 -3.421875 C 3.320312 -3.410156 2.90625 -3.351562 2.625 -3.25 C 2.34375 -3.144531 2.125 -2.984375 1.96875 -2.765625 C 1.820312 -2.554688 1.75 -2.273438 1.75 -1.921875 C 1.75 -1.546875 1.847656 -1.253906 2.046875 -1.046875 C 2.253906 -0.835938 2.550781 -0.734375 2.9375 -0.734375 Z M 2.9375 -0.734375 \"/>\n",
       "</g>\n",
       "<g id=\"glyph-2-2\">\n",
       "<path d=\"M 0.890625 0 L 0.890625 -9.5625 L 2.046875 -9.5625 L 2.046875 0 Z M 0.890625 0 \"/>\n",
       "</g>\n",
       "<g id=\"glyph-2-3\">\n",
       "<path d=\"M 1.78125 -3.25 C 1.78125 -2.445312 1.941406 -1.828125 2.265625 -1.390625 C 2.597656 -0.953125 3.082031 -0.734375 3.71875 -0.734375 C 4.226562 -0.734375 4.632812 -0.832031 4.9375 -1.03125 C 5.238281 -1.238281 5.441406 -1.5 5.546875 -1.8125 L 6.5625 -1.515625 C 6.144531 -0.421875 5.195312 0.125 3.71875 0.125 C 2.6875 0.125 1.898438 -0.179688 1.359375 -0.796875 C 0.828125 -1.410156 0.5625 -2.320312 0.5625 -3.53125 C 0.5625 -4.6875 0.828125 -5.570312 1.359375 -6.1875 C 1.898438 -6.800781 2.675781 -7.109375 3.6875 -7.109375 C 5.726562 -7.109375 6.75 -5.867188 6.75 -3.390625 L 6.75 -3.25 Z M 5.5625 -4.125 C 5.488281 -4.863281 5.296875 -5.398438 4.984375 -5.734375 C 4.679688 -6.078125 4.238281 -6.25 3.65625 -6.25 C 3.09375 -6.25 2.644531 -6.0625 2.3125 -5.6875 C 1.988281 -5.3125 1.816406 -4.789062 1.796875 -4.125 Z M 5.5625 -4.125 \"/>\n",
       "</g>\n",
       "<g id=\"glyph-2-4\">\n",
       "<path d=\"M 6.125 -1.921875 C 6.125 -1.265625 5.875 -0.757812 5.375 -0.40625 C 4.882812 -0.0507812 4.191406 0.125 3.296875 0.125 C 2.421875 0.125 1.75 -0.015625 1.28125 -0.296875 C 0.8125 -0.585938 0.507812 -1.035156 0.375 -1.640625 L 1.390625 -1.84375 C 1.492188 -1.46875 1.695312 -1.191406 2 -1.015625 C 2.3125 -0.835938 2.742188 -0.75 3.296875 -0.75 C 3.878906 -0.75 4.304688 -0.835938 4.578125 -1.015625 C 4.859375 -1.203125 5 -1.476562 5 -1.84375 C 5 -2.113281 4.898438 -2.332031 4.703125 -2.5 C 4.515625 -2.675781 4.210938 -2.820312 3.796875 -2.9375 L 2.96875 -3.15625 C 2.300781 -3.320312 1.828125 -3.488281 1.546875 -3.65625 C 1.265625 -3.820312 1.039062 -4.019531 0.875 -4.25 C 0.71875 -4.488281 0.640625 -4.78125 0.640625 -5.125 C 0.640625 -5.757812 0.863281 -6.242188 1.3125 -6.578125 C 1.769531 -6.910156 2.4375 -7.078125 3.3125 -7.078125 C 4.082031 -7.078125 4.691406 -6.941406 5.140625 -6.671875 C 5.597656 -6.398438 5.882812 -5.96875 6 -5.375 L 4.953125 -5.25 C 4.890625 -5.5625 4.71875 -5.796875 4.4375 -5.953125 C 4.15625 -6.117188 3.78125 -6.203125 3.3125 -6.203125 C 2.78125 -6.203125 2.390625 -6.125 2.140625 -5.96875 C 1.890625 -5.8125 1.765625 -5.570312 1.765625 -5.25 C 1.765625 -5.050781 1.816406 -4.882812 1.921875 -4.75 C 2.023438 -4.625 2.175781 -4.515625 2.375 -4.421875 C 2.582031 -4.335938 3.007812 -4.21875 3.65625 -4.0625 C 4.269531 -3.90625 4.710938 -3.757812 4.984375 -3.625 C 5.253906 -3.5 5.46875 -3.351562 5.625 -3.1875 C 5.78125 -3.03125 5.898438 -2.847656 5.984375 -2.640625 C 6.078125 -2.429688 6.125 -2.191406 6.125 -1.921875 Z M 6.125 -1.921875 \"/>\n",
       "</g>\n",
       "<g id=\"glyph-2-5\">\n",
       "</g>\n",
       "<g id=\"glyph-2-6\">\n",
       "<path d=\"M 7.53125 0 L 6.484375 -2.65625 L 2.34375 -2.65625 L 1.296875 0 L 0.03125 0 L 3.734375 -9.078125 L 5.125 -9.078125 L 8.78125 0 Z M 4.421875 -8.15625 L 4.359375 -7.96875 C 4.253906 -7.613281 4.09375 -7.160156 3.875 -6.609375 L 2.71875 -3.609375 L 6.125 -3.609375 L 4.953125 -6.609375 C 4.828125 -6.910156 4.707031 -7.25 4.59375 -7.625 Z M 4.421875 -8.15625 \"/>\n",
       "</g>\n",
       "<g id=\"glyph-2-7\">\n",
       "<path d=\"M 4.953125 0 L 4.953125 -4.421875 C 4.953125 -5.097656 4.859375 -5.5625 4.671875 -5.8125 C 4.484375 -6.070312 4.148438 -6.203125 3.671875 -6.203125 C 3.179688 -6.203125 2.789062 -6.015625 2.5 -5.640625 C 2.207031 -5.265625 2.0625 -4.734375 2.0625 -4.046875 L 2.0625 0 L 0.921875 0 L 0.921875 -5.484375 C 0.921875 -6.296875 0.90625 -6.789062 0.875 -6.96875 L 1.96875 -6.96875 C 1.976562 -6.945312 1.984375 -6.890625 1.984375 -6.796875 C 1.984375 -6.703125 1.988281 -6.59375 2 -6.46875 C 2.007812 -6.351562 2.019531 -6.125 2.03125 -5.78125 L 2.046875 -5.78125 C 2.296875 -6.28125 2.582031 -6.625 2.90625 -6.8125 C 3.226562 -7.007812 3.617188 -7.109375 4.078125 -7.109375 C 4.609375 -7.109375 5.023438 -7 5.328125 -6.78125 C 5.640625 -6.570312 5.851562 -6.238281 5.96875 -5.78125 L 6 -5.78125 C 6.238281 -6.25 6.523438 -6.585938 6.859375 -6.796875 C 7.203125 -7.003906 7.617188 -7.109375 8.109375 -7.109375 C 8.816406 -7.109375 9.328125 -6.914062 9.640625 -6.53125 C 9.960938 -6.144531 10.125 -5.515625 10.125 -4.640625 L 10.125 0 L 8.984375 0 L 8.984375 -4.421875 C 8.984375 -5.097656 8.890625 -5.5625 8.703125 -5.8125 C 8.515625 -6.070312 8.179688 -6.203125 7.703125 -6.203125 C 7.191406 -6.203125 6.796875 -6.015625 6.515625 -5.640625 C 6.234375 -5.265625 6.09375 -4.734375 6.09375 -4.046875 L 6.09375 0 Z M 4.953125 0 \"/>\n",
       "</g>\n",
       "<g id=\"glyph-2-8\">\n",
       "<path d=\"M 6.78125 -3.5 C 6.78125 -2.269531 6.507812 -1.359375 5.96875 -0.765625 C 5.4375 -0.171875 4.660156 0.125 3.640625 0.125 C 2.617188 0.125 1.847656 -0.179688 1.328125 -0.796875 C 0.804688 -1.421875 0.546875 -2.320312 0.546875 -3.5 C 0.546875 -5.90625 1.59375 -7.109375 3.6875 -7.109375 C 4.75 -7.109375 5.53125 -6.8125 6.03125 -6.21875 C 6.53125 -5.632812 6.78125 -4.726562 6.78125 -3.5 Z M 5.5625 -3.5 C 5.5625 -4.457031 5.421875 -5.15625 5.140625 -5.59375 C 4.859375 -6.03125 4.378906 -6.25 3.703125 -6.25 C 3.023438 -6.25 2.53125 -6.023438 2.21875 -5.578125 C 1.914062 -5.128906 1.765625 -4.4375 1.765625 -3.5 C 1.765625 -2.570312 1.914062 -1.878906 2.21875 -1.421875 C 2.519531 -0.960938 2.988281 -0.734375 3.625 -0.734375 C 4.320312 -0.734375 4.816406 -0.953125 5.109375 -1.390625 C 5.410156 -1.835938 5.5625 -2.539062 5.5625 -3.5 Z M 5.5625 -3.5 \"/>\n",
       "</g>\n",
       "<g id=\"glyph-2-9\">\n",
       "<path d=\"M 2.03125 -6.96875 L 2.03125 -2.546875 C 2.03125 -2.085938 2.070312 -1.734375 2.15625 -1.484375 C 2.25 -1.234375 2.394531 -1.050781 2.59375 -0.9375 C 2.789062 -0.820312 3.082031 -0.765625 3.46875 -0.765625 C 4.019531 -0.765625 4.457031 -0.957031 4.78125 -1.34375 C 5.101562 -1.726562 5.265625 -2.257812 5.265625 -2.9375 L 5.265625 -6.96875 L 6.421875 -6.96875 L 6.421875 -1.484375 C 6.421875 -0.671875 6.4375 -0.175781 6.46875 0 L 5.375 0 C 5.363281 -0.0195312 5.351562 -0.078125 5.34375 -0.171875 C 5.34375 -0.265625 5.335938 -0.375 5.328125 -0.5 C 5.328125 -0.625 5.320312 -0.851562 5.3125 -1.1875 L 5.296875 -1.1875 C 5.035156 -0.707031 4.726562 -0.367188 4.375 -0.171875 C 4.019531 0.0234375 3.582031 0.125 3.0625 0.125 C 2.300781 0.125 1.742188 -0.0625 1.390625 -0.4375 C 1.035156 -0.820312 0.859375 -1.453125 0.859375 -2.328125 L 0.859375 -6.96875 Z M 2.03125 -6.96875 \"/>\n",
       "</g>\n",
       "<g id=\"glyph-2-10\">\n",
       "<path d=\"M 5.3125 0 L 5.3125 -4.421875 C 5.3125 -4.878906 5.265625 -5.234375 5.171875 -5.484375 C 5.085938 -5.742188 4.945312 -5.925781 4.75 -6.03125 C 4.550781 -6.144531 4.257812 -6.203125 3.875 -6.203125 C 3.320312 -6.203125 2.882812 -6.007812 2.5625 -5.625 C 2.238281 -5.25 2.078125 -4.722656 2.078125 -4.046875 L 2.078125 0 L 0.921875 0 L 0.921875 -5.484375 C 0.921875 -6.296875 0.90625 -6.789062 0.875 -6.96875 L 1.96875 -6.96875 C 1.976562 -6.945312 1.984375 -6.890625 1.984375 -6.796875 C 1.984375 -6.703125 1.988281 -6.59375 2 -6.46875 C 2.007812 -6.351562 2.019531 -6.125 2.03125 -5.78125 L 2.046875 -5.78125 C 2.304688 -6.257812 2.613281 -6.597656 2.96875 -6.796875 C 3.320312 -7.003906 3.757812 -7.109375 4.28125 -7.109375 C 5.039062 -7.109375 5.597656 -6.914062 5.953125 -6.53125 C 6.304688 -6.15625 6.484375 -5.523438 6.484375 -4.640625 L 6.484375 0 Z M 5.3125 0 \"/>\n",
       "</g>\n",
       "<g id=\"glyph-2-11\">\n",
       "<path d=\"M 3.578125 -0.046875 C 3.191406 0.0546875 2.796875 0.109375 2.390625 0.109375 C 1.460938 0.109375 1 -0.414062 1 -1.46875 L 1 -6.125 L 0.203125 -6.125 L 0.203125 -6.96875 L 1.046875 -6.96875 L 1.390625 -8.53125 L 2.171875 -8.53125 L 2.171875 -6.96875 L 3.453125 -6.96875 L 3.453125 -6.125 L 2.171875 -6.125 L 2.171875 -1.734375 C 2.171875 -1.390625 2.222656 -1.148438 2.328125 -1.015625 C 2.441406 -0.878906 2.632812 -0.8125 2.90625 -0.8125 C 3.0625 -0.8125 3.285156 -0.84375 3.578125 -0.90625 Z M 3.578125 -0.046875 \"/>\n",
       "</g>\n",
       "<g id=\"glyph-2-12\">\n",
       "<path d=\"M 9.640625 -4.578125 C 9.640625 -3.628906 9.457031 -2.796875 9.09375 -2.078125 C 8.726562 -1.367188 8.207031 -0.820312 7.53125 -0.4375 C 6.851562 -0.0625 6.050781 0.125 5.125 0.125 C 4.1875 0.125 3.378906 -0.0625 2.703125 -0.4375 C 2.035156 -0.8125 1.519531 -1.359375 1.15625 -2.078125 C 0.800781 -2.796875 0.625 -3.628906 0.625 -4.578125 C 0.625 -6.035156 1.019531 -7.171875 1.8125 -7.984375 C 2.613281 -8.804688 3.722656 -9.21875 5.140625 -9.21875 C 6.066406 -9.21875 6.867188 -9.03125 7.546875 -8.65625 C 8.222656 -8.289062 8.738281 -7.757812 9.09375 -7.0625 C 9.457031 -6.363281 9.640625 -5.535156 9.640625 -4.578125 Z M 8.375 -4.578125 C 8.375 -5.710938 8.09375 -6.601562 7.53125 -7.25 C 6.96875 -7.894531 6.171875 -8.21875 5.140625 -8.21875 C 4.097656 -8.21875 3.289062 -7.898438 2.71875 -7.265625 C 2.15625 -6.628906 1.875 -5.734375 1.875 -4.578125 C 1.875 -3.441406 2.160156 -2.539062 2.734375 -1.875 C 3.304688 -1.207031 4.101562 -0.875 5.125 -0.875 C 6.175781 -0.875 6.976562 -1.195312 7.53125 -1.84375 C 8.09375 -2.488281 8.375 -3.398438 8.375 -4.578125 Z M 8.375 -4.578125 \"/>\n",
       "</g>\n",
       "<g id=\"glyph-2-13\">\n",
       "<path d=\"M 0.890625 -8.453125 L 0.890625 -9.5625 L 2.046875 -9.5625 L 2.046875 -8.453125 Z M 0.890625 0 L 0.890625 -6.96875 L 2.046875 -6.96875 L 2.046875 0 Z M 0.890625 0 \"/>\n",
       "</g>\n",
       "<g id=\"glyph-2-14\">\n",
       "<path d=\"M 0.921875 0 L 0.921875 -5.34375 C 0.921875 -5.832031 0.90625 -6.375 0.875 -6.96875 L 1.96875 -6.96875 C 2.007812 -6.1875 2.03125 -5.710938 2.03125 -5.546875 L 2.046875 -5.546875 C 2.234375 -6.148438 2.445312 -6.5625 2.6875 -6.78125 C 2.925781 -7 3.265625 -7.109375 3.703125 -7.109375 C 3.859375 -7.109375 4.015625 -7.085938 4.171875 -7.046875 L 4.171875 -5.96875 C 4.023438 -6.019531 3.820312 -6.046875 3.5625 -6.046875 C 3.082031 -6.046875 2.710938 -5.835938 2.453125 -5.421875 C 2.203125 -5.003906 2.078125 -4.410156 2.078125 -3.640625 L 2.078125 0 Z M 0.921875 0 \"/>\n",
       "</g>\n",
       "</g>\n",
       "<clipPath id=\"clip-0\">\n",
       "<path clip-rule=\"nonzero\" d=\"M 45.527344 23.960938 L 498.523438 23.960938 L 498.523438 485.585938 L 45.527344 485.585938 Z M 45.527344 23.960938 \"/>\n",
       "</clipPath>\n",
       "<clipPath id=\"clip-1\">\n",
       "<path clip-rule=\"nonzero\" d=\"M 45.527344 402 L 498.523438 402 L 498.523438 404 L 45.527344 404 Z M 45.527344 402 \"/>\n",
       "</clipPath>\n",
       "<clipPath id=\"clip-2\">\n",
       "<path clip-rule=\"nonzero\" d=\"M 45.527344 300 L 498.523438 300 L 498.523438 302 L 45.527344 302 Z M 45.527344 300 \"/>\n",
       "</clipPath>\n",
       "<clipPath id=\"clip-3\">\n",
       "<path clip-rule=\"nonzero\" d=\"M 45.527344 198 L 498.523438 198 L 498.523438 199 L 45.527344 199 Z M 45.527344 198 \"/>\n",
       "</clipPath>\n",
       "<clipPath id=\"clip-4\">\n",
       "<path clip-rule=\"nonzero\" d=\"M 45.527344 95 L 498.523438 95 L 498.523438 97 L 45.527344 97 Z M 45.527344 95 \"/>\n",
       "</clipPath>\n",
       "<clipPath id=\"clip-5\">\n",
       "<path clip-rule=\"nonzero\" d=\"M 107 23.960938 L 108 23.960938 L 108 485.585938 L 107 485.585938 Z M 107 23.960938 \"/>\n",
       "</clipPath>\n",
       "<clipPath id=\"clip-6\">\n",
       "<path clip-rule=\"nonzero\" d=\"M 216 23.960938 L 218 23.960938 L 218 485.585938 L 216 485.585938 Z M 216 23.960938 \"/>\n",
       "</clipPath>\n",
       "<clipPath id=\"clip-7\">\n",
       "<path clip-rule=\"nonzero\" d=\"M 326 23.960938 L 328 23.960938 L 328 485.585938 L 326 485.585938 Z M 326 23.960938 \"/>\n",
       "</clipPath>\n",
       "<clipPath id=\"clip-8\">\n",
       "<path clip-rule=\"nonzero\" d=\"M 436 23.960938 L 438 23.960938 L 438 485.585938 L 436 485.585938 Z M 436 23.960938 \"/>\n",
       "</clipPath>\n",
       "<clipPath id=\"clip-9\">\n",
       "<path clip-rule=\"nonzero\" d=\"M 45.527344 453 L 498.523438 453 L 498.523438 455 L 45.527344 455 Z M 45.527344 453 \"/>\n",
       "</clipPath>\n",
       "<clipPath id=\"clip-10\">\n",
       "<path clip-rule=\"nonzero\" d=\"M 45.527344 351 L 498.523438 351 L 498.523438 353 L 45.527344 353 Z M 45.527344 351 \"/>\n",
       "</clipPath>\n",
       "<clipPath id=\"clip-11\">\n",
       "<path clip-rule=\"nonzero\" d=\"M 45.527344 249 L 498.523438 249 L 498.523438 251 L 45.527344 251 Z M 45.527344 249 \"/>\n",
       "</clipPath>\n",
       "<clipPath id=\"clip-12\">\n",
       "<path clip-rule=\"nonzero\" d=\"M 45.527344 146 L 498.523438 146 L 498.523438 148 L 45.527344 148 Z M 45.527344 146 \"/>\n",
       "</clipPath>\n",
       "<clipPath id=\"clip-13\">\n",
       "<path clip-rule=\"nonzero\" d=\"M 45.527344 44 L 498.523438 44 L 498.523438 46 L 45.527344 46 Z M 45.527344 44 \"/>\n",
       "</clipPath>\n",
       "<clipPath id=\"clip-14\">\n",
       "<path clip-rule=\"nonzero\" d=\"M 51 23.960938 L 53 23.960938 L 53 485.585938 L 51 485.585938 Z M 51 23.960938 \"/>\n",
       "</clipPath>\n",
       "<clipPath id=\"clip-15\">\n",
       "<path clip-rule=\"nonzero\" d=\"M 161 23.960938 L 163 23.960938 L 163 485.585938 L 161 485.585938 Z M 161 23.960938 \"/>\n",
       "</clipPath>\n",
       "<clipPath id=\"clip-16\">\n",
       "<path clip-rule=\"nonzero\" d=\"M 271 23.960938 L 273 23.960938 L 273 485.585938 L 271 485.585938 Z M 271 23.960938 \"/>\n",
       "</clipPath>\n",
       "<clipPath id=\"clip-17\">\n",
       "<path clip-rule=\"nonzero\" d=\"M 381 23.960938 L 383 23.960938 L 383 485.585938 L 381 485.585938 Z M 381 23.960938 \"/>\n",
       "</clipPath>\n",
       "<clipPath id=\"clip-18\">\n",
       "<path clip-rule=\"nonzero\" d=\"M 491 23.960938 L 493 23.960938 L 493 485.585938 L 491 485.585938 Z M 491 23.960938 \"/>\n",
       "</clipPath>\n",
       "</defs>\n",
       "<rect x=\"-50.4\" y=\"-50.4\" width=\"604.8\" height=\"604.8\" fill=\"rgb(100%, 100%, 100%)\" fill-opacity=\"1\"/>\n",
       "<rect x=\"-50.4\" y=\"-50.4\" width=\"604.8\" height=\"604.8\" fill=\"rgb(100%, 100%, 100%)\" fill-opacity=\"1\"/>\n",
       "<path fill=\"none\" stroke-width=\"1.066978\" stroke-linecap=\"round\" stroke-linejoin=\"round\" stroke=\"rgb(100%, 100%, 100%)\" stroke-opacity=\"1\" stroke-miterlimit=\"10\" d=\"M 0 504 L 504 504 L 504 0 L 0 0 Z M 0 504 \"/>\n",
       "<g clip-path=\"url(#clip-0)\">\n",
       "<path fill-rule=\"nonzero\" fill=\"rgb(92.156863%, 92.156863%, 92.156863%)\" fill-opacity=\"1\" d=\"M 45.527344 485.585938 L 498.523438 485.585938 L 498.523438 23.960938 L 45.527344 23.960938 Z M 45.527344 485.585938 \"/>\n",
       "</g>\n",
       "<g clip-path=\"url(#clip-1)\">\n",
       "<path fill=\"none\" stroke-width=\"0.533489\" stroke-linecap=\"butt\" stroke-linejoin=\"round\" stroke=\"rgb(100%, 100%, 100%)\" stroke-opacity=\"1\" stroke-miterlimit=\"10\" d=\"M 45.527344 403.191406 L 498.519531 403.191406 \"/>\n",
       "</g>\n",
       "<g clip-path=\"url(#clip-2)\">\n",
       "<path fill=\"none\" stroke-width=\"0.533489\" stroke-linecap=\"butt\" stroke-linejoin=\"round\" stroke=\"rgb(100%, 100%, 100%)\" stroke-opacity=\"1\" stroke-miterlimit=\"10\" d=\"M 45.527344 300.835938 L 498.519531 300.835938 \"/>\n",
       "</g>\n",
       "<g clip-path=\"url(#clip-3)\">\n",
       "<path fill=\"none\" stroke-width=\"0.533489\" stroke-linecap=\"butt\" stroke-linejoin=\"round\" stroke=\"rgb(100%, 100%, 100%)\" stroke-opacity=\"1\" stroke-miterlimit=\"10\" d=\"M 45.527344 198.476562 L 498.519531 198.476562 \"/>\n",
       "</g>\n",
       "<g clip-path=\"url(#clip-4)\">\n",
       "<path fill=\"none\" stroke-width=\"0.533489\" stroke-linecap=\"butt\" stroke-linejoin=\"round\" stroke=\"rgb(100%, 100%, 100%)\" stroke-opacity=\"1\" stroke-miterlimit=\"10\" d=\"M 45.527344 96.121094 L 498.519531 96.121094 \"/>\n",
       "</g>\n",
       "<g clip-path=\"url(#clip-5)\">\n",
       "<path fill=\"none\" stroke-width=\"0.533489\" stroke-linecap=\"butt\" stroke-linejoin=\"round\" stroke=\"rgb(100%, 100%, 100%)\" stroke-opacity=\"1\" stroke-miterlimit=\"10\" d=\"M 107.296875 485.585938 L 107.296875 23.960938 \"/>\n",
       "</g>\n",
       "<g clip-path=\"url(#clip-6)\">\n",
       "<path fill=\"none\" stroke-width=\"0.533489\" stroke-linecap=\"butt\" stroke-linejoin=\"round\" stroke=\"rgb(100%, 100%, 100%)\" stroke-opacity=\"1\" stroke-miterlimit=\"10\" d=\"M 217.113281 485.585938 L 217.113281 23.960938 \"/>\n",
       "</g>\n",
       "<g clip-path=\"url(#clip-7)\">\n",
       "<path fill=\"none\" stroke-width=\"0.533489\" stroke-linecap=\"butt\" stroke-linejoin=\"round\" stroke=\"rgb(100%, 100%, 100%)\" stroke-opacity=\"1\" stroke-miterlimit=\"10\" d=\"M 326.929688 485.585938 L 326.929688 23.960938 \"/>\n",
       "</g>\n",
       "<g clip-path=\"url(#clip-8)\">\n",
       "<path fill=\"none\" stroke-width=\"0.533489\" stroke-linecap=\"butt\" stroke-linejoin=\"round\" stroke=\"rgb(100%, 100%, 100%)\" stroke-opacity=\"1\" stroke-miterlimit=\"10\" d=\"M 436.75 485.585938 L 436.75 23.960938 \"/>\n",
       "</g>\n",
       "<g clip-path=\"url(#clip-9)\">\n",
       "<path fill=\"none\" stroke-width=\"1.066978\" stroke-linecap=\"butt\" stroke-linejoin=\"round\" stroke=\"rgb(100%, 100%, 100%)\" stroke-opacity=\"1\" stroke-miterlimit=\"10\" d=\"M 45.527344 454.367188 L 498.519531 454.367188 \"/>\n",
       "</g>\n",
       "<g clip-path=\"url(#clip-10)\">\n",
       "<path fill=\"none\" stroke-width=\"1.066978\" stroke-linecap=\"butt\" stroke-linejoin=\"round\" stroke=\"rgb(100%, 100%, 100%)\" stroke-opacity=\"1\" stroke-miterlimit=\"10\" d=\"M 45.527344 352.011719 L 498.519531 352.011719 \"/>\n",
       "</g>\n",
       "<g clip-path=\"url(#clip-11)\">\n",
       "<path fill=\"none\" stroke-width=\"1.066978\" stroke-linecap=\"butt\" stroke-linejoin=\"round\" stroke=\"rgb(100%, 100%, 100%)\" stroke-opacity=\"1\" stroke-miterlimit=\"10\" d=\"M 45.527344 249.65625 L 498.519531 249.65625 \"/>\n",
       "</g>\n",
       "<g clip-path=\"url(#clip-12)\">\n",
       "<path fill=\"none\" stroke-width=\"1.066978\" stroke-linecap=\"butt\" stroke-linejoin=\"round\" stroke=\"rgb(100%, 100%, 100%)\" stroke-opacity=\"1\" stroke-miterlimit=\"10\" d=\"M 45.527344 147.300781 L 498.519531 147.300781 \"/>\n",
       "</g>\n",
       "<g clip-path=\"url(#clip-13)\">\n",
       "<path fill=\"none\" stroke-width=\"1.066978\" stroke-linecap=\"butt\" stroke-linejoin=\"round\" stroke=\"rgb(100%, 100%, 100%)\" stroke-opacity=\"1\" stroke-miterlimit=\"10\" d=\"M 45.527344 44.945312 L 498.519531 44.945312 \"/>\n",
       "</g>\n",
       "<g clip-path=\"url(#clip-14)\">\n",
       "<path fill=\"none\" stroke-width=\"1.066978\" stroke-linecap=\"butt\" stroke-linejoin=\"round\" stroke=\"rgb(100%, 100%, 100%)\" stroke-opacity=\"1\" stroke-miterlimit=\"10\" d=\"M 52.390625 485.585938 L 52.390625 23.960938 \"/>\n",
       "</g>\n",
       "<g clip-path=\"url(#clip-15)\">\n",
       "<path fill=\"none\" stroke-width=\"1.066978\" stroke-linecap=\"butt\" stroke-linejoin=\"round\" stroke=\"rgb(100%, 100%, 100%)\" stroke-opacity=\"1\" stroke-miterlimit=\"10\" d=\"M 162.207031 485.585938 L 162.207031 23.960938 \"/>\n",
       "</g>\n",
       "<g clip-path=\"url(#clip-16)\">\n",
       "<path fill=\"none\" stroke-width=\"1.066978\" stroke-linecap=\"butt\" stroke-linejoin=\"round\" stroke=\"rgb(100%, 100%, 100%)\" stroke-opacity=\"1\" stroke-miterlimit=\"10\" d=\"M 272.023438 485.585938 L 272.023438 23.960938 \"/>\n",
       "</g>\n",
       "<g clip-path=\"url(#clip-17)\">\n",
       "<path fill=\"none\" stroke-width=\"1.066978\" stroke-linecap=\"butt\" stroke-linejoin=\"round\" stroke=\"rgb(100%, 100%, 100%)\" stroke-opacity=\"1\" stroke-miterlimit=\"10\" d=\"M 381.839844 485.585938 L 381.839844 23.960938 \"/>\n",
       "</g>\n",
       "<g clip-path=\"url(#clip-18)\">\n",
       "<path fill=\"none\" stroke-width=\"1.066978\" stroke-linecap=\"butt\" stroke-linejoin=\"round\" stroke=\"rgb(100%, 100%, 100%)\" stroke-opacity=\"1\" stroke-miterlimit=\"10\" d=\"M 491.65625 485.585938 L 491.65625 23.960938 \"/>\n",
       "</g>\n",
       "<path fill=\"none\" stroke-width=\"1.066978\" stroke-linecap=\"butt\" stroke-linejoin=\"round\" stroke=\"rgb(20%, 20%, 20%)\" stroke-opacity=\"1\" stroke-miterlimit=\"10\" d=\"M 272.023438 239.421875 L 272.023438 44.945312 \"/>\n",
       "<path fill=\"none\" stroke-width=\"1.066978\" stroke-linecap=\"butt\" stroke-linejoin=\"round\" stroke=\"rgb(20%, 20%, 20%)\" stroke-opacity=\"1\" stroke-miterlimit=\"10\" d=\"M 272.023438 449.25 L 272.023438 464.601562 \"/>\n",
       "<path fill-rule=\"nonzero\" fill=\"rgb(100%, 100%, 100%)\" fill-opacity=\"1\" stroke-width=\"1.066978\" stroke-linecap=\"butt\" stroke-linejoin=\"miter\" stroke=\"rgb(20%, 20%, 20%)\" stroke-opacity=\"1\" stroke-miterlimit=\"10\" d=\"M 66.117188 239.421875 L 66.117188 449.25 L 477.929688 449.25 L 477.929688 239.421875 Z M 66.117188 239.421875 \"/>\n",
       "<path fill=\"none\" stroke-width=\"2.133957\" stroke-linecap=\"butt\" stroke-linejoin=\"miter\" stroke=\"rgb(20%, 20%, 20%)\" stroke-opacity=\"1\" stroke-miterlimit=\"10\" d=\"M 66.117188 433.898438 L 477.929688 433.898438 \"/>\n",
       "<g fill=\"rgb(30.196078%, 30.196078%, 30.196078%)\" fill-opacity=\"1\">\n",
       "<use xlink:href=\"#glyph-0-0\" x=\"35.59375\" y=\"457.833008\"/>\n",
       "</g>\n",
       "<g fill=\"rgb(30.196078%, 30.196078%, 30.196078%)\" fill-opacity=\"1\">\n",
       "<use xlink:href=\"#glyph-0-1\" x=\"25.59375\" y=\"355.477539\"/>\n",
       "<use xlink:href=\"#glyph-0-0\" x=\"30.59375\" y=\"355.477539\"/>\n",
       "<use xlink:href=\"#glyph-0-0\" x=\"35.59375\" y=\"355.477539\"/>\n",
       "</g>\n",
       "<g fill=\"rgb(30.196078%, 30.196078%, 30.196078%)\" fill-opacity=\"1\">\n",
       "<use xlink:href=\"#glyph-0-2\" x=\"20.59375\" y=\"253.12207\"/>\n",
       "<use xlink:href=\"#glyph-0-0\" x=\"25.59375\" y=\"253.12207\"/>\n",
       "<use xlink:href=\"#glyph-0-0\" x=\"30.59375\" y=\"253.12207\"/>\n",
       "<use xlink:href=\"#glyph-0-0\" x=\"35.59375\" y=\"253.12207\"/>\n",
       "</g>\n",
       "<g fill=\"rgb(30.196078%, 30.196078%, 30.196078%)\" fill-opacity=\"1\">\n",
       "<use xlink:href=\"#glyph-0-2\" x=\"20.59375\" y=\"150.766602\"/>\n",
       "<use xlink:href=\"#glyph-0-1\" x=\"25.59375\" y=\"150.766602\"/>\n",
       "<use xlink:href=\"#glyph-0-0\" x=\"30.59375\" y=\"150.766602\"/>\n",
       "<use xlink:href=\"#glyph-0-0\" x=\"35.59375\" y=\"150.766602\"/>\n",
       "</g>\n",
       "<g fill=\"rgb(30.196078%, 30.196078%, 30.196078%)\" fill-opacity=\"1\">\n",
       "<use xlink:href=\"#glyph-0-3\" x=\"20.59375\" y=\"48.411133\"/>\n",
       "<use xlink:href=\"#glyph-0-0\" x=\"25.59375\" y=\"48.411133\"/>\n",
       "<use xlink:href=\"#glyph-0-0\" x=\"30.59375\" y=\"48.411133\"/>\n",
       "<use xlink:href=\"#glyph-0-0\" x=\"35.59375\" y=\"48.411133\"/>\n",
       "</g>\n",
       "<path fill=\"none\" stroke-width=\"1.066978\" stroke-linecap=\"butt\" stroke-linejoin=\"round\" stroke=\"rgb(20%, 20%, 20%)\" stroke-opacity=\"1\" stroke-miterlimit=\"10\" d=\"M 42.785156 454.367188 L 45.527344 454.367188 \"/>\n",
       "<path fill=\"none\" stroke-width=\"1.066978\" stroke-linecap=\"butt\" stroke-linejoin=\"round\" stroke=\"rgb(20%, 20%, 20%)\" stroke-opacity=\"1\" stroke-miterlimit=\"10\" d=\"M 42.785156 352.011719 L 45.527344 352.011719 \"/>\n",
       "<path fill=\"none\" stroke-width=\"1.066978\" stroke-linecap=\"butt\" stroke-linejoin=\"round\" stroke=\"rgb(20%, 20%, 20%)\" stroke-opacity=\"1\" stroke-miterlimit=\"10\" d=\"M 42.785156 249.65625 L 45.527344 249.65625 \"/>\n",
       "<path fill=\"none\" stroke-width=\"1.066978\" stroke-linecap=\"butt\" stroke-linejoin=\"round\" stroke=\"rgb(20%, 20%, 20%)\" stroke-opacity=\"1\" stroke-miterlimit=\"10\" d=\"M 42.785156 147.300781 L 45.527344 147.300781 \"/>\n",
       "<path fill=\"none\" stroke-width=\"1.066978\" stroke-linecap=\"butt\" stroke-linejoin=\"round\" stroke=\"rgb(20%, 20%, 20%)\" stroke-opacity=\"1\" stroke-miterlimit=\"10\" d=\"M 42.785156 44.945312 L 45.527344 44.945312 \"/>\n",
       "<path fill=\"none\" stroke-width=\"1.066978\" stroke-linecap=\"butt\" stroke-linejoin=\"round\" stroke=\"rgb(20%, 20%, 20%)\" stroke-opacity=\"1\" stroke-miterlimit=\"10\" d=\"M 52.390625 488.324219 L 52.390625 485.585938 \"/>\n",
       "<path fill=\"none\" stroke-width=\"1.066978\" stroke-linecap=\"butt\" stroke-linejoin=\"round\" stroke=\"rgb(20%, 20%, 20%)\" stroke-opacity=\"1\" stroke-miterlimit=\"10\" d=\"M 162.207031 488.324219 L 162.207031 485.585938 \"/>\n",
       "<path fill=\"none\" stroke-width=\"1.066978\" stroke-linecap=\"butt\" stroke-linejoin=\"round\" stroke=\"rgb(20%, 20%, 20%)\" stroke-opacity=\"1\" stroke-miterlimit=\"10\" d=\"M 272.023438 488.324219 L 272.023438 485.585938 \"/>\n",
       "<path fill=\"none\" stroke-width=\"1.066978\" stroke-linecap=\"butt\" stroke-linejoin=\"round\" stroke=\"rgb(20%, 20%, 20%)\" stroke-opacity=\"1\" stroke-miterlimit=\"10\" d=\"M 381.839844 488.324219 L 381.839844 485.585938 \"/>\n",
       "<path fill=\"none\" stroke-width=\"1.066978\" stroke-linecap=\"butt\" stroke-linejoin=\"round\" stroke=\"rgb(20%, 20%, 20%)\" stroke-opacity=\"1\" stroke-miterlimit=\"10\" d=\"M 491.65625 488.324219 L 491.65625 485.585938 \"/>\n",
       "<g fill=\"rgb(30.196078%, 30.196078%, 30.196078%)\" fill-opacity=\"1\">\n",
       "<use xlink:href=\"#glyph-0-4\" x=\"44.890625\" y=\"497.485352\"/>\n",
       "<use xlink:href=\"#glyph-0-0\" x=\"47.890625\" y=\"497.485352\"/>\n",
       "<use xlink:href=\"#glyph-0-5\" x=\"52.890625\" y=\"497.485352\"/>\n",
       "<use xlink:href=\"#glyph-0-6\" x=\"54.890625\" y=\"497.485352\"/>\n",
       "</g>\n",
       "<g fill=\"rgb(30.196078%, 30.196078%, 30.196078%)\" fill-opacity=\"1\">\n",
       "<use xlink:href=\"#glyph-0-4\" x=\"154.707031\" y=\"497.485352\"/>\n",
       "<use xlink:href=\"#glyph-0-0\" x=\"157.707031\" y=\"497.485352\"/>\n",
       "<use xlink:href=\"#glyph-0-5\" x=\"162.707031\" y=\"497.485352\"/>\n",
       "<use xlink:href=\"#glyph-0-3\" x=\"164.707031\" y=\"497.485352\"/>\n",
       "</g>\n",
       "<g fill=\"rgb(30.196078%, 30.196078%, 30.196078%)\" fill-opacity=\"1\">\n",
       "<use xlink:href=\"#glyph-0-0\" x=\"266.023438\" y=\"497.485352\"/>\n",
       "<use xlink:href=\"#glyph-0-5\" x=\"271.023438\" y=\"497.485352\"/>\n",
       "<use xlink:href=\"#glyph-0-0\" x=\"273.023438\" y=\"497.485352\"/>\n",
       "</g>\n",
       "<g fill=\"rgb(30.196078%, 30.196078%, 30.196078%)\" fill-opacity=\"1\">\n",
       "<use xlink:href=\"#glyph-0-0\" x=\"375.839844\" y=\"497.485352\"/>\n",
       "<use xlink:href=\"#glyph-0-5\" x=\"380.839844\" y=\"497.485352\"/>\n",
       "<use xlink:href=\"#glyph-0-3\" x=\"382.839844\" y=\"497.485352\"/>\n",
       "</g>\n",
       "<g fill=\"rgb(30.196078%, 30.196078%, 30.196078%)\" fill-opacity=\"1\">\n",
       "<use xlink:href=\"#glyph-0-0\" x=\"485.65625\" y=\"497.485352\"/>\n",
       "<use xlink:href=\"#glyph-0-5\" x=\"490.65625\" y=\"497.485352\"/>\n",
       "<use xlink:href=\"#glyph-0-6\" x=\"492.65625\" y=\"497.485352\"/>\n",
       "</g>\n",
       "<g fill=\"rgb(0%, 0%, 0%)\" fill-opacity=\"1\">\n",
       "<use xlink:href=\"#glyph-1-0\" x=\"13.438477\" y=\"289.773438\"/>\n",
       "<use xlink:href=\"#glyph-1-1\" x=\"13.438477\" y=\"282.773438\"/>\n",
       "<use xlink:href=\"#glyph-1-2\" x=\"13.438477\" y=\"276.773438\"/>\n",
       "<use xlink:href=\"#glyph-1-3\" x=\"13.438477\" y=\"274.773438\"/>\n",
       "<use xlink:href=\"#glyph-1-4\" x=\"13.438477\" y=\"268.773438\"/>\n",
       "<use xlink:href=\"#glyph-1-5\" x=\"13.438477\" y=\"262.773438\"/>\n",
       "<use xlink:href=\"#glyph-1-6\" x=\"13.438477\" y=\"256.773438\"/>\n",
       "<use xlink:href=\"#glyph-1-7\" x=\"13.438477\" y=\"249.773438\"/>\n",
       "<use xlink:href=\"#glyph-1-8\" x=\"13.438477\" y=\"240.773438\"/>\n",
       "<use xlink:href=\"#glyph-1-9\" x=\"13.438477\" y=\"234.773438\"/>\n",
       "<use xlink:href=\"#glyph-1-10\" x=\"13.438477\" y=\"228.773438\"/>\n",
       "<use xlink:href=\"#glyph-1-11\" x=\"13.438477\" y=\"222.773438\"/>\n",
       "</g>\n",
       "<g fill=\"rgb(0%, 0%, 0%)\" fill-opacity=\"1\">\n",
       "<use xlink:href=\"#glyph-2-0\" x=\"45.527344\" y=\"15.429688\"/>\n",
       "<use xlink:href=\"#glyph-2-1\" x=\"54.527344\" y=\"15.429688\"/>\n",
       "<use xlink:href=\"#glyph-2-2\" x=\"61.527344\" y=\"15.429688\"/>\n",
       "<use xlink:href=\"#glyph-2-3\" x=\"64.527344\" y=\"15.429688\"/>\n",
       "<use xlink:href=\"#glyph-2-4\" x=\"71.527344\" y=\"15.429688\"/>\n",
       "<use xlink:href=\"#glyph-2-5\" x=\"78.527344\" y=\"15.429688\"/>\n",
       "<use xlink:href=\"#glyph-2-6\" x=\"81.527344\" y=\"15.429688\"/>\n",
       "<use xlink:href=\"#glyph-2-7\" x=\"90.527344\" y=\"15.429688\"/>\n",
       "<use xlink:href=\"#glyph-2-8\" x=\"101.527344\" y=\"15.429688\"/>\n",
       "<use xlink:href=\"#glyph-2-9\" x=\"108.527344\" y=\"15.429688\"/>\n",
       "<use xlink:href=\"#glyph-2-10\" x=\"115.527344\" y=\"15.429688\"/>\n",
       "<use xlink:href=\"#glyph-2-11\" x=\"122.527344\" y=\"15.429688\"/>\n",
       "<use xlink:href=\"#glyph-2-5\" x=\"126.527344\" y=\"15.429688\"/>\n",
       "<use xlink:href=\"#glyph-2-12\" x=\"130.527344\" y=\"15.429688\"/>\n",
       "<use xlink:href=\"#glyph-2-9\" x=\"140.527344\" y=\"15.429688\"/>\n",
       "<use xlink:href=\"#glyph-2-11\" x=\"147.527344\" y=\"15.429688\"/>\n",
       "<use xlink:href=\"#glyph-2-2\" x=\"151.527344\" y=\"15.429688\"/>\n",
       "<use xlink:href=\"#glyph-2-13\" x=\"154.527344\" y=\"15.429688\"/>\n",
       "<use xlink:href=\"#glyph-2-3\" x=\"157.527344\" y=\"15.429688\"/>\n",
       "<use xlink:href=\"#glyph-2-14\" x=\"164.527344\" y=\"15.429688\"/>\n",
       "<use xlink:href=\"#glyph-2-4\" x=\"168.527344\" y=\"15.429688\"/>\n",
       "</g>\n",
       "</svg>\n"
      ],
      "text/plain": [
       "plot without title"
      ]
     },
     "metadata": {
      "application/pdf": {
       "height": 420,
       "width": 420
      },
      "image/jpeg": {
       "height": 420,
       "width": 420
      },
      "image/png": {
       "height": 420,
       "width": 420
      },
      "image/svg+xml": {
       "height": 420,
       "isolated": true,
       "width": 420
      }
     },
     "output_type": "display_data"
    }
   ],
   "source": [
    "### TODO: Create a boxplot for Sales_Amount\n",
    "# Use ggplot2 to create a boxplot showing outliers\n",
    "boxplot_sales <- ggplot(sales_imputed, aes(y = Sales_Amount)) +\n",
    "  geom_boxplot(outlier.colour = \"red\", outlier.shape = 16) +\n",
    "  ggtitle(\"Sales Amount Outliers\") +\n",
    "  ylab(\"Sales_Amount\")\n",
    "\n",
    "# Display the plot\n",
    "print(boxplot_sales)"
   ]
  },
  {
   "cell_type": "markdown",
   "id": "ab78e27a",
   "metadata": {},
   "source": [
    "### 3.3 Outlier Treatment - Option A (Removal)\n",
    "\n",
    "Remove rows containing outliers and assess the impact."
   ]
  },
  {
   "cell_type": "code",
   "execution_count": 49,
   "id": "8e8a1784",
   "metadata": {
    "vscode": {
     "languageId": "r"
    }
   },
   "outputs": [
    {
     "name": "stdout",
     "output_type": "stream",
     "text": [
      "[1] \"Original rows: 4\"\n",
      "[1] \"After removing outliers: 3\"\n",
      "[1] \"Rows removed: 1\"\n"
     ]
    }
   ],
   "source": [
    "### TODO: Remove outliers from the imputed dataset\n",
    "sales_outliers_removed <- sales_imputed %>%\n",
    "  filter(Sales_Amount >= lower_threshold & Sales_Amount <= upper_threshold)\n",
    "\n",
    "print(paste(\"Original rows:\", nrow(sales_imputed)))\n",
    "print(paste(\"After removing outliers:\", nrow(sales_outliers_removed)))\n",
    "print(paste(\"Rows removed:\", nrow(sales_imputed) - nrow(sales_outliers_removed)))"
   ]
  },
  {
   "cell_type": "markdown",
   "id": "8ad26c10",
   "metadata": {},
   "source": [
    "### 3.4 Outlier Treatment - Option B (Capping)\n",
    "\n",
    "Apply capping/winsorization to handle outliers while preserving data points."
   ]
  },
  {
   "cell_type": "markdown",
   "id": "00d330f9",
   "metadata": {},
   "source": [
    "### 3.2 Outlier Visualization\n",
    "\n",
    "Create a boxplot to visualize the outliers in Sales_Amount."
   ]
  },
  {
   "cell_type": "code",
   "execution_count": 51,
   "id": "4bf184da",
   "metadata": {
    "vscode": {
     "languageId": "r"
    }
   },
   "outputs": [
    {
     "name": "stderr",
     "output_type": "stream",
     "text": [
      "Warning message:\n",
      "“\u001b[1m\u001b[22mRemoved 1 row containing non-finite outside the scale range (`stat_boxplot()`).”\n"
     ]
    },
    {
     "data": {
      "application/pdf": "[encoded data removed]",
      "image/jpeg": "[encoded data removed]",
      "image/png": "[encoded data removed]",
      "image/svg+xml": [
       "<?xml version=\"1.0\" encoding=\"UTF-8\"?>\n",
       "<svg xmlns=\"http://www.w3.org/2000/svg\" xmlns:xlink=\"http://www.w3.org/1999/xlink\" width=\"504\" height=\"504\" viewBox=\"0 0 504 504\">\n",
       "<defs>\n",
       "<g>\n",
       "<g id=\"glyph-0-0\">\n",
       "<path d=\"M 4.546875 -3.03125 C 4.546875 -2.019531 4.367188 -1.25 4.015625 -0.71875 C 3.660156 -0.1875 3.132812 0.078125 2.4375 0.078125 C 1.738281 0.078125 1.210938 -0.179688 0.859375 -0.703125 C 0.515625 -1.234375 0.34375 -2.007812 0.34375 -3.03125 C 0.34375 -4.070312 0.507812 -4.847656 0.84375 -5.359375 C 1.1875 -5.878906 1.726562 -6.140625 2.46875 -6.140625 C 3.175781 -6.140625 3.695312 -5.875 4.03125 -5.34375 C 4.375 -4.820312 4.546875 -4.050781 4.546875 -3.03125 Z M 3.765625 -3.03125 C 3.765625 -3.90625 3.660156 -4.535156 3.453125 -4.921875 C 3.253906 -5.316406 2.925781 -5.515625 2.46875 -5.515625 C 1.988281 -5.515625 1.644531 -5.320312 1.4375 -4.9375 C 1.226562 -4.550781 1.125 -3.914062 1.125 -3.03125 C 1.125 -2.164062 1.226562 -1.535156 1.4375 -1.140625 C 1.644531 -0.742188 1.976562 -0.546875 2.4375 -0.546875 C 2.894531 -0.546875 3.226562 -0.75 3.4375 -1.15625 C 3.65625 -1.5625 3.765625 -2.1875 3.765625 -3.03125 Z M 3.765625 -3.03125 \"/>\n",
       "</g>\n",
       "<g id=\"glyph-0-1\">\n",
       "<path d=\"M 4.515625 -1.96875 C 4.515625 -1.332031 4.328125 -0.832031 3.953125 -0.46875 C 3.578125 -0.101562 3.050781 0.078125 2.375 0.078125 C 1.8125 0.078125 1.351562 -0.0390625 1 -0.28125 C 0.65625 -0.53125 0.441406 -0.890625 0.359375 -1.359375 L 1.140625 -1.4375 C 1.296875 -0.84375 1.710938 -0.546875 2.390625 -0.546875 C 2.804688 -0.546875 3.128906 -0.671875 3.359375 -0.921875 C 3.597656 -1.171875 3.71875 -1.515625 3.71875 -1.953125 C 3.71875 -2.335938 3.597656 -2.644531 3.359375 -2.875 C 3.128906 -3.113281 2.8125 -3.234375 2.40625 -3.234375 C 2.195312 -3.234375 2.003906 -3.195312 1.828125 -3.125 C 1.648438 -3.0625 1.46875 -2.953125 1.28125 -2.796875 L 0.53125 -2.796875 L 0.734375 -6.046875 L 4.171875 -6.046875 L 4.171875 -5.390625 L 1.4375 -5.390625 L 1.3125 -3.46875 C 1.65625 -3.726562 2.070312 -3.859375 2.5625 -3.859375 C 3.164062 -3.859375 3.640625 -3.679688 3.984375 -3.328125 C 4.335938 -2.984375 4.515625 -2.53125 4.515625 -1.96875 Z M 4.515625 -1.96875 \"/>\n",
       "</g>\n",
       "<g id=\"glyph-0-2\">\n",
       "<path d=\"M 0.671875 0 L 0.671875 -0.65625 L 2.21875 -0.65625 L 2.21875 -5.3125 L 0.84375 -4.34375 L 0.84375 -5.0625 L 2.28125 -6.046875 L 2.984375 -6.046875 L 2.984375 -0.65625 L 4.46875 -0.65625 L 4.46875 0 Z M 0.671875 0 \"/>\n",
       "</g>\n",
       "<g id=\"glyph-0-3\">\n",
       "<path d=\"M 0.4375 0 L 0.4375 -0.546875 C 0.582031 -0.878906 0.757812 -1.171875 0.96875 -1.421875 C 1.1875 -1.679688 1.410156 -1.914062 1.640625 -2.125 C 1.867188 -2.332031 2.097656 -2.523438 2.328125 -2.703125 C 2.554688 -2.878906 2.757812 -3.054688 2.9375 -3.234375 C 3.125 -3.410156 3.273438 -3.597656 3.390625 -3.796875 C 3.503906 -3.992188 3.5625 -4.210938 3.5625 -4.453125 C 3.5625 -4.785156 3.460938 -5.039062 3.265625 -5.21875 C 3.078125 -5.40625 2.804688 -5.5 2.453125 -5.5 C 2.128906 -5.5 1.859375 -5.410156 1.640625 -5.234375 C 1.429688 -5.054688 1.304688 -4.804688 1.265625 -4.484375 L 0.484375 -4.5625 C 0.535156 -5.039062 0.738281 -5.421875 1.09375 -5.703125 C 1.445312 -5.992188 1.898438 -6.140625 2.453125 -6.140625 C 3.066406 -6.140625 3.535156 -5.992188 3.859375 -5.703125 C 4.191406 -5.421875 4.359375 -5.015625 4.359375 -4.484375 C 4.359375 -4.242188 4.300781 -4.007812 4.1875 -3.78125 C 4.082031 -3.550781 3.921875 -3.316406 3.703125 -3.078125 C 3.492188 -2.847656 3.09375 -2.492188 2.5 -2.015625 C 2.164062 -1.742188 1.898438 -1.5 1.703125 -1.28125 C 1.515625 -1.0625 1.378906 -0.851562 1.296875 -0.65625 L 4.453125 -0.65625 L 4.453125 0 Z M 0.4375 0 \"/>\n",
       "</g>\n",
       "<g id=\"glyph-0-4\">\n",
       "<path d=\"M 0.390625 -2 L 0.390625 -2.6875 L 2.53125 -2.6875 L 2.53125 -2 Z M 0.390625 -2 \"/>\n",
       "</g>\n",
       "<g id=\"glyph-0-5\">\n",
       "<path d=\"M 0.796875 0 L 0.796875 -0.9375 L 1.640625 -0.9375 L 1.640625 0 Z M 0.796875 0 \"/>\n",
       "</g>\n",
       "<g id=\"glyph-0-6\">\n",
       "<path d=\"M 3.78125 -1.375 L 3.78125 0 L 3.046875 0 L 3.046875 -1.375 L 0.203125 -1.375 L 0.203125 -1.96875 L 2.96875 -6.046875 L 3.78125 -6.046875 L 3.78125 -1.984375 L 4.640625 -1.984375 L 4.640625 -1.375 Z M 3.046875 -5.1875 C 3.046875 -5.164062 3.007812 -5.085938 2.9375 -4.953125 C 2.863281 -4.816406 2.804688 -4.722656 2.765625 -4.671875 L 1.21875 -2.390625 L 0.984375 -2.0625 L 0.921875 -1.984375 L 3.046875 -1.984375 Z M 3.046875 -5.1875 \"/>\n",
       "</g>\n",
       "<g id=\"glyph-1-0\">\n",
       "<path d=\"M -2.09375 -6.828125 C -1.394531 -6.828125 -0.851562 -6.550781 -0.46875 -6 C -0.0820312 -5.457031 0.109375 -4.691406 0.109375 -3.703125 C 0.109375 -1.859375 -0.53125 -0.789062 -1.8125 -0.5 L -2.015625 -1.5 C -1.554688 -1.613281 -1.21875 -1.851562 -1 -2.21875 C -0.789062 -2.59375 -0.6875 -3.101562 -0.6875 -3.75 C -0.6875 -4.40625 -0.800781 -4.910156 -1.03125 -5.265625 C -1.257812 -5.628906 -1.59375 -5.8125 -2.03125 -5.8125 C -2.28125 -5.8125 -2.484375 -5.753906 -2.640625 -5.640625 C -2.796875 -5.535156 -2.921875 -5.378906 -3.015625 -5.171875 C -3.117188 -4.960938 -3.203125 -4.71875 -3.265625 -4.4375 C -3.335938 -4.15625 -3.410156 -3.84375 -3.484375 -3.5 C -3.617188 -2.90625 -3.753906 -2.453125 -3.890625 -2.140625 C -4.023438 -1.828125 -4.171875 -1.582031 -4.328125 -1.40625 C -4.492188 -1.226562 -4.6875 -1.09375 -4.90625 -1 C -5.125 -0.90625 -5.375 -0.859375 -5.65625 -0.859375 C -6.300781 -0.859375 -6.800781 -1.101562 -7.15625 -1.59375 C -7.507812 -2.09375 -7.6875 -2.804688 -7.6875 -3.734375 C -7.6875 -4.585938 -7.550781 -5.238281 -7.28125 -5.6875 C -7.019531 -6.144531 -6.570312 -6.46875 -5.9375 -6.65625 L -5.765625 -5.640625 C -6.160156 -5.535156 -6.445312 -5.328125 -6.625 -5.015625 C -6.8125 -4.703125 -6.90625 -4.269531 -6.90625 -3.71875 C -6.90625 -3.113281 -6.804688 -2.648438 -6.609375 -2.328125 C -6.410156 -2.015625 -6.109375 -1.859375 -5.703125 -1.859375 C -5.472656 -1.859375 -5.28125 -1.914062 -5.125 -2.03125 C -4.976562 -2.15625 -4.851562 -2.332031 -4.75 -2.5625 C -4.644531 -2.800781 -4.515625 -3.269531 -4.359375 -3.96875 C -4.304688 -4.195312 -4.25 -4.425781 -4.1875 -4.65625 C -4.132812 -4.882812 -4.066406 -5.101562 -3.984375 -5.3125 C -3.910156 -5.53125 -3.820312 -5.726562 -3.71875 -5.90625 C -3.613281 -6.09375 -3.484375 -6.253906 -3.328125 -6.390625 C -3.179688 -6.523438 -3.003906 -6.628906 -2.796875 -6.703125 C -2.597656 -6.785156 -2.363281 -6.828125 -2.09375 -6.828125 Z M -2.09375 -6.828125 \"/>\n",
       "</g>\n",
       "<g id=\"glyph-1-1\">\n",
       "<path d=\"M 0.109375 -2.21875 C 0.109375 -1.632812 -0.0390625 -1.195312 -0.34375 -0.90625 C -0.65625 -0.613281 -1.082031 -0.46875 -1.625 -0.46875 C -2.226562 -0.46875 -2.6875 -0.664062 -3 -1.0625 C -3.320312 -1.457031 -3.5 -2.09375 -3.53125 -2.96875 L -3.546875 -4.28125 L -3.859375 -4.28125 C -4.335938 -4.28125 -4.675781 -4.175781 -4.875 -3.96875 C -5.082031 -3.769531 -5.1875 -3.457031 -5.1875 -3.03125 C -5.1875 -2.601562 -5.113281 -2.289062 -4.96875 -2.09375 C -4.820312 -1.894531 -4.585938 -1.773438 -4.265625 -1.734375 L -4.34375 -0.71875 C -5.394531 -0.882812 -5.921875 -1.664062 -5.921875 -3.0625 C -5.921875 -3.789062 -5.753906 -4.335938 -5.421875 -4.703125 C -5.085938 -5.078125 -4.601562 -5.265625 -3.96875 -5.265625 L -1.46875 -5.265625 C -1.175781 -5.265625 -0.957031 -5.300781 -0.8125 -5.375 C -0.664062 -5.445312 -0.59375 -5.585938 -0.59375 -5.796875 C -0.59375 -5.890625 -0.609375 -6 -0.640625 -6.125 L -0.03125 -6.125 C 0.0195312 -5.875 0.046875 -5.625 0.046875 -5.375 C 0.046875 -5.007812 -0.046875 -4.742188 -0.234375 -4.578125 C -0.421875 -4.421875 -0.710938 -4.332031 -1.109375 -4.3125 L -1.109375 -4.28125 C -0.671875 -4.03125 -0.359375 -3.738281 -0.171875 -3.40625 C 0.015625 -3.082031 0.109375 -2.6875 0.109375 -2.21875 Z M -0.625 -2.4375 C -0.625 -2.789062 -0.703125 -3.101562 -0.859375 -3.375 C -1.015625 -3.65625 -1.234375 -3.875 -1.515625 -4.03125 C -1.796875 -4.195312 -2.085938 -4.28125 -2.390625 -4.28125 L -2.875 -4.28125 L -2.84375 -3.21875 C -2.84375 -2.769531 -2.796875 -2.425781 -2.703125 -2.1875 C -2.617188 -1.957031 -2.488281 -1.78125 -2.3125 -1.65625 C -2.132812 -1.53125 -1.898438 -1.46875 -1.609375 -1.46875 C -1.296875 -1.46875 -1.050781 -1.550781 -0.875 -1.71875 C -0.707031 -1.882812 -0.625 -2.125 -0.625 -2.4375 Z M -0.625 -2.4375 \"/>\n",
       "</g>\n",
       "<g id=\"glyph-1-2\">\n",
       "<path d=\"M 0 -0.734375 L -7.96875 -0.734375 L -7.96875 -1.703125 L 0 -1.703125 Z M 0 -0.734375 \"/>\n",
       "</g>\n",
       "<g id=\"glyph-1-3\">\n",
       "<path d=\"M -2.703125 -1.484375 C -2.035156 -1.484375 -1.519531 -1.617188 -1.15625 -1.890625 C -0.800781 -2.171875 -0.625 -2.578125 -0.625 -3.109375 C -0.625 -3.523438 -0.707031 -3.859375 -0.875 -4.109375 C -1.039062 -4.359375 -1.253906 -4.53125 -1.515625 -4.625 L -1.265625 -5.46875 C -0.347656 -5.125 0.109375 -4.335938 0.109375 -3.109375 C 0.109375 -2.242188 -0.144531 -1.585938 -0.65625 -1.140625 C -1.164062 -0.691406 -1.925781 -0.46875 -2.9375 -0.46875 C -3.90625 -0.46875 -4.644531 -0.691406 -5.15625 -1.140625 C -5.664062 -1.585938 -5.921875 -2.226562 -5.921875 -3.0625 C -5.921875 -4.769531 -4.890625 -5.625 -2.828125 -5.625 L -2.703125 -5.625 Z M -3.4375 -4.625 C -4.050781 -4.570312 -4.5 -4.414062 -4.78125 -4.15625 C -5.0625 -3.90625 -5.203125 -3.535156 -5.203125 -3.046875 C -5.203125 -2.578125 -5.046875 -2.207031 -4.734375 -1.9375 C -4.421875 -1.664062 -3.988281 -1.519531 -3.4375 -1.5 Z M -3.4375 -4.625 \"/>\n",
       "</g>\n",
       "<g id=\"glyph-1-4\">\n",
       "<path d=\"M -1.609375 -5.109375 C -1.054688 -5.109375 -0.628906 -4.898438 -0.328125 -4.484375 C -0.0351562 -4.066406 0.109375 -3.488281 0.109375 -2.75 C 0.109375 -2.019531 -0.0078125 -1.457031 -0.25 -1.0625 C -0.488281 -0.675781 -0.859375 -0.425781 -1.359375 -0.3125 L -1.53125 -1.15625 C -1.21875 -1.238281 -0.988281 -1.410156 -0.84375 -1.671875 C -0.695312 -1.929688 -0.625 -2.289062 -0.625 -2.75 C -0.625 -3.238281 -0.695312 -3.59375 -0.84375 -3.8125 C -1 -4.039062 -1.226562 -4.15625 -1.53125 -4.15625 C -1.757812 -4.15625 -1.941406 -4.078125 -2.078125 -3.921875 C -2.222656 -3.765625 -2.34375 -3.507812 -2.4375 -3.15625 L -2.625 -2.46875 C -2.769531 -1.914062 -2.910156 -1.519531 -3.046875 -1.28125 C -3.179688 -1.050781 -3.347656 -0.867188 -3.546875 -0.734375 C -3.742188 -0.597656 -3.988281 -0.53125 -4.28125 -0.53125 C -4.8125 -0.53125 -5.210938 -0.71875 -5.484375 -1.09375 C -5.765625 -1.476562 -5.90625 -2.03125 -5.90625 -2.75 C -5.90625 -3.394531 -5.789062 -3.90625 -5.5625 -4.28125 C -5.332031 -4.65625 -4.972656 -4.894531 -4.484375 -5 L -4.375 -4.125 C -4.632812 -4.070312 -4.832031 -3.925781 -4.96875 -3.6875 C -5.101562 -3.457031 -5.171875 -3.144531 -5.171875 -2.75 C -5.171875 -2.3125 -5.101562 -1.988281 -4.96875 -1.78125 C -4.84375 -1.582031 -4.644531 -1.484375 -4.375 -1.484375 C -4.207031 -1.484375 -4.066406 -1.523438 -3.953125 -1.609375 C -3.847656 -1.691406 -3.757812 -1.816406 -3.6875 -1.984375 C -3.613281 -2.148438 -3.507812 -2.503906 -3.375 -3.046875 C -3.25 -3.554688 -3.128906 -3.925781 -3.015625 -4.15625 C -2.910156 -4.382812 -2.789062 -4.5625 -2.65625 -4.6875 C -2.519531 -4.820312 -2.363281 -4.925781 -2.1875 -5 C -2.019531 -5.070312 -1.828125 -5.109375 -1.609375 -5.109375 Z M -1.609375 -5.109375 \"/>\n",
       "</g>\n",
       "<g id=\"glyph-1-5\">\n",
       "<path d=\"M 2.1875 0.171875 L 1.484375 0.171875 L 1.484375 -6.234375 L 2.1875 -6.234375 Z M 2.1875 0.171875 \"/>\n",
       "</g>\n",
       "<g id=\"glyph-1-6\">\n",
       "<path d=\"M 0 -6.265625 L -2.21875 -5.40625 L -2.21875 -1.953125 L 0 -1.078125 L 0 -0.015625 L -7.5625 -3.109375 L -7.5625 -4.28125 L 0 -7.3125 Z M -6.796875 -3.671875 L -6.640625 -3.625 C -6.347656 -3.539062 -5.96875 -3.410156 -5.5 -3.234375 L -3.015625 -2.265625 L -3.015625 -5.09375 L -5.515625 -4.125 C -5.753906 -4.019531 -6.03125 -3.921875 -6.34375 -3.828125 Z M -6.796875 -3.671875 \"/>\n",
       "</g>\n",
       "<g id=\"glyph-1-7\">\n",
       "<path d=\"M 0 -4.125 L -3.6875 -4.125 C -4.25 -4.125 -4.632812 -4.046875 -4.84375 -3.890625 C -5.0625 -3.734375 -5.171875 -3.457031 -5.171875 -3.0625 C -5.171875 -2.644531 -5.015625 -2.316406 -4.703125 -2.078125 C -4.390625 -1.835938 -3.945312 -1.71875 -3.375 -1.71875 L 0 -1.71875 L 0 -0.765625 L -4.578125 -0.765625 C -5.253906 -0.765625 -5.664062 -0.753906 -5.8125 -0.734375 L -5.8125 -1.640625 C -5.789062 -1.648438 -5.738281 -1.65625 -5.65625 -1.65625 C -5.582031 -1.65625 -5.492188 -1.65625 -5.390625 -1.65625 C -5.296875 -1.664062 -5.101562 -1.675781 -4.8125 -1.6875 L -4.8125 -1.703125 C -5.226562 -1.910156 -5.515625 -2.144531 -5.671875 -2.40625 C -5.835938 -2.675781 -5.921875 -3.007812 -5.921875 -3.40625 C -5.921875 -3.84375 -5.832031 -4.1875 -5.65625 -4.4375 C -5.476562 -4.695312 -5.195312 -4.878906 -4.8125 -4.984375 L -4.8125 -5 C -5.207031 -5.195312 -5.488281 -5.4375 -5.65625 -5.71875 C -5.832031 -6.007812 -5.921875 -6.351562 -5.921875 -6.75 C -5.921875 -7.34375 -5.757812 -7.769531 -5.4375 -8.03125 C -5.125 -8.300781 -4.601562 -8.4375 -3.875 -8.4375 L 0 -8.4375 L 0 -7.484375 L -3.6875 -7.484375 C -4.25 -7.484375 -4.632812 -7.40625 -4.84375 -7.25 C -5.0625 -7.09375 -5.171875 -6.816406 -5.171875 -6.421875 C -5.171875 -5.992188 -5.015625 -5.660156 -4.703125 -5.421875 C -4.390625 -5.191406 -3.945312 -5.078125 -3.375 -5.078125 L 0 -5.078125 Z M 0 -4.125 \"/>\n",
       "</g>\n",
       "<g id=\"glyph-1-8\">\n",
       "<path d=\"M -2.90625 -5.65625 C -1.894531 -5.65625 -1.140625 -5.429688 -0.640625 -4.984375 C -0.140625 -4.535156 0.109375 -3.882812 0.109375 -3.03125 C 0.109375 -2.1875 -0.144531 -1.546875 -0.65625 -1.109375 C -1.175781 -0.679688 -1.925781 -0.46875 -2.90625 -0.46875 C -4.914062 -0.46875 -5.921875 -1.332031 -5.921875 -3.0625 C -5.921875 -3.957031 -5.675781 -4.613281 -5.1875 -5.03125 C -4.695312 -5.445312 -3.9375 -5.65625 -2.90625 -5.65625 Z M -2.90625 -4.640625 C -3.707031 -4.640625 -4.289062 -4.519531 -4.65625 -4.28125 C -5.019531 -4.039062 -5.203125 -3.640625 -5.203125 -3.078125 C -5.203125 -2.515625 -5.015625 -2.109375 -4.640625 -1.859375 C -4.273438 -1.609375 -3.695312 -1.484375 -2.90625 -1.484375 C -2.144531 -1.484375 -1.570312 -1.601562 -1.1875 -1.84375 C -0.800781 -2.09375 -0.609375 -2.488281 -0.609375 -3.03125 C -0.609375 -3.601562 -0.789062 -4.015625 -1.15625 -4.265625 C -1.53125 -4.515625 -2.113281 -4.640625 -2.90625 -4.640625 Z M -2.90625 -4.640625 \"/>\n",
       "</g>\n",
       "<g id=\"glyph-1-9\">\n",
       "<path d=\"M -5.8125 -1.6875 L -2.125 -1.6875 C -1.738281 -1.6875 -1.441406 -1.722656 -1.234375 -1.796875 C -1.023438 -1.867188 -0.875 -1.988281 -0.78125 -2.15625 C -0.6875 -2.320312 -0.640625 -2.566406 -0.640625 -2.890625 C -0.640625 -3.347656 -0.796875 -3.710938 -1.109375 -3.984375 C -1.429688 -4.253906 -1.875 -4.390625 -2.4375 -4.390625 L -5.8125 -4.390625 L -5.8125 -5.359375 L -1.234375 -5.359375 C -0.554688 -5.359375 -0.144531 -5.367188 0 -5.390625 L 0 -4.46875 C -0.0195312 -4.46875 -0.0664062 -4.460938 -0.140625 -4.453125 C -0.222656 -4.453125 -0.3125 -4.445312 -0.40625 -4.4375 C -0.507812 -4.4375 -0.707031 -4.4375 -1 -4.4375 L -1 -4.421875 C -0.59375 -4.191406 -0.304688 -3.929688 -0.140625 -3.640625 C 0.0234375 -3.347656 0.109375 -2.988281 0.109375 -2.5625 C 0.109375 -1.914062 -0.046875 -1.445312 -0.359375 -1.15625 C -0.679688 -0.863281 -1.207031 -0.71875 -1.9375 -0.71875 L -5.8125 -0.71875 Z M -5.8125 -1.6875 \"/>\n",
       "</g>\n",
       "<g id=\"glyph-1-10\">\n",
       "<path d=\"M 0 -4.4375 L -3.6875 -4.4375 C -4.070312 -4.4375 -4.367188 -4.394531 -4.578125 -4.3125 C -4.785156 -4.238281 -4.9375 -4.117188 -5.03125 -3.953125 C -5.125 -3.796875 -5.171875 -3.554688 -5.171875 -3.234375 C -5.171875 -2.765625 -5.007812 -2.394531 -4.6875 -2.125 C -4.375 -1.863281 -3.9375 -1.734375 -3.375 -1.734375 L 0 -1.734375 L 0 -0.765625 L -4.578125 -0.765625 C -5.253906 -0.765625 -5.664062 -0.753906 -5.8125 -0.734375 L -5.8125 -1.640625 C -5.789062 -1.648438 -5.738281 -1.65625 -5.65625 -1.65625 C -5.582031 -1.65625 -5.492188 -1.65625 -5.390625 -1.65625 C -5.296875 -1.664062 -5.101562 -1.675781 -4.8125 -1.6875 L -4.8125 -1.703125 C -5.21875 -1.921875 -5.503906 -2.175781 -5.671875 -2.46875 C -5.835938 -2.757812 -5.921875 -3.125 -5.921875 -3.5625 C -5.921875 -4.195312 -5.757812 -4.660156 -5.4375 -4.953125 C -5.125 -5.253906 -4.601562 -5.40625 -3.875 -5.40625 L 0 -5.40625 Z M 0 -4.4375 \"/>\n",
       "</g>\n",
       "<g id=\"glyph-1-11\">\n",
       "<path d=\"M -0.046875 -2.96875 C 0.046875 -2.65625 0.09375 -2.332031 0.09375 -2 C 0.09375 -1.226562 -0.347656 -0.84375 -1.234375 -0.84375 L -5.109375 -0.84375 L -5.109375 -0.171875 L -5.8125 -0.171875 L -5.8125 -0.875 L -7.109375 -1.15625 L -7.109375 -1.8125 L -5.8125 -1.8125 L -5.8125 -2.875 L -5.109375 -2.875 L -5.109375 -1.8125 L -1.4375 -1.8125 C -1.15625 -1.8125 -0.957031 -1.851562 -0.84375 -1.9375 C -0.738281 -2.03125 -0.6875 -2.191406 -0.6875 -2.421875 C -0.6875 -2.546875 -0.707031 -2.726562 -0.75 -2.96875 Z M -0.046875 -2.96875 \"/>\n",
       "</g>\n",
       "<g id=\"glyph-2-0\">\n",
       "<path d=\"M 8.203125 -2.515625 C 8.203125 -1.671875 7.875 -1.019531 7.21875 -0.5625 C 6.5625 -0.101562 5.640625 0.125 4.453125 0.125 C 2.234375 0.125 0.945312 -0.640625 0.59375 -2.171875 L 1.796875 -2.421875 C 1.929688 -1.867188 2.222656 -1.460938 2.671875 -1.203125 C 3.117188 -0.953125 3.726562 -0.828125 4.5 -0.828125 C 5.289062 -0.828125 5.898438 -0.960938 6.328125 -1.234375 C 6.765625 -1.515625 6.984375 -1.914062 6.984375 -2.4375 C 6.984375 -2.738281 6.914062 -2.976562 6.78125 -3.15625 C 6.644531 -3.34375 6.453125 -3.492188 6.203125 -3.609375 C 5.960938 -3.734375 5.671875 -3.835938 5.328125 -3.921875 C 4.992188 -4.003906 4.617188 -4.09375 4.203125 -4.1875 C 3.484375 -4.34375 2.9375 -4.5 2.5625 -4.65625 C 2.195312 -4.820312 1.90625 -5.003906 1.6875 -5.203125 C 1.46875 -5.398438 1.300781 -5.628906 1.1875 -5.890625 C 1.082031 -6.148438 1.03125 -6.445312 1.03125 -6.78125 C 1.03125 -7.5625 1.328125 -8.160156 1.921875 -8.578125 C 2.515625 -9.003906 3.363281 -9.21875 4.46875 -9.21875 C 5.5 -9.21875 6.285156 -9.054688 6.828125 -8.734375 C 7.378906 -8.421875 7.765625 -7.882812 7.984375 -7.125 L 6.78125 -6.921875 C 6.644531 -7.398438 6.390625 -7.75 6.015625 -7.96875 C 5.640625 -8.1875 5.125 -8.296875 4.46875 -8.296875 C 3.738281 -8.296875 3.179688 -8.171875 2.796875 -7.921875 C 2.410156 -7.679688 2.21875 -7.328125 2.21875 -6.859375 C 2.21875 -6.578125 2.289062 -6.34375 2.4375 -6.15625 C 2.59375 -5.976562 2.804688 -5.820312 3.078125 -5.6875 C 3.359375 -5.5625 3.914062 -5.410156 4.75 -5.234375 C 5.03125 -5.160156 5.3125 -5.09375 5.59375 -5.03125 C 5.875 -4.96875 6.140625 -4.890625 6.390625 -4.796875 C 6.640625 -4.703125 6.875 -4.59375 7.09375 -4.46875 C 7.320312 -4.34375 7.515625 -4.1875 7.671875 -4 C 7.835938 -3.820312 7.96875 -3.609375 8.0625 -3.359375 C 8.15625 -3.117188 8.203125 -2.835938 8.203125 -2.515625 Z M 8.203125 -2.515625 \"/>\n",
       "</g>\n",
       "<g id=\"glyph-2-1\">\n",
       "<path d=\"M 2.671875 0.125 C 1.972656 0.125 1.445312 -0.0546875 1.09375 -0.421875 C 0.738281 -0.796875 0.5625 -1.304688 0.5625 -1.953125 C 0.5625 -2.671875 0.796875 -3.222656 1.265625 -3.609375 C 1.742188 -3.992188 2.515625 -4.203125 3.578125 -4.234375 L 5.140625 -4.25 L 5.140625 -4.640625 C 5.140625 -5.203125 5.019531 -5.601562 4.78125 -5.84375 C 4.539062 -6.09375 4.160156 -6.21875 3.640625 -6.21875 C 3.117188 -6.21875 2.738281 -6.128906 2.5 -5.953125 C 2.269531 -5.773438 2.128906 -5.492188 2.078125 -5.109375 L 0.875 -5.21875 C 1.070312 -6.476562 2.003906 -7.109375 3.671875 -7.109375 C 4.546875 -7.109375 5.203125 -6.90625 5.640625 -6.5 C 6.085938 -6.101562 6.3125 -5.519531 6.3125 -4.75 L 6.3125 -1.75 C 6.3125 -1.40625 6.351562 -1.144531 6.4375 -0.96875 C 6.53125 -0.800781 6.707031 -0.71875 6.96875 -0.71875 C 7.070312 -0.71875 7.195312 -0.734375 7.34375 -0.765625 L 7.34375 -0.03125 C 7.050781 0.03125 6.753906 0.0625 6.453125 0.0625 C 6.015625 0.0625 5.695312 -0.046875 5.5 -0.265625 C 5.3125 -0.492188 5.203125 -0.847656 5.171875 -1.328125 L 5.140625 -1.328125 C 4.835938 -0.796875 4.488281 -0.421875 4.09375 -0.203125 C 3.707031 0.015625 3.234375 0.125 2.671875 0.125 Z M 2.9375 -0.734375 C 3.363281 -0.734375 3.738281 -0.832031 4.0625 -1.03125 C 4.394531 -1.226562 4.65625 -1.492188 4.84375 -1.828125 C 5.039062 -2.160156 5.140625 -2.507812 5.140625 -2.875 L 5.140625 -3.4375 L 3.875 -3.421875 C 3.320312 -3.410156 2.90625 -3.351562 2.625 -3.25 C 2.34375 -3.144531 2.125 -2.984375 1.96875 -2.765625 C 1.820312 -2.554688 1.75 -2.273438 1.75 -1.921875 C 1.75 -1.546875 1.847656 -1.253906 2.046875 -1.046875 C 2.253906 -0.835938 2.550781 -0.734375 2.9375 -0.734375 Z M 2.9375 -0.734375 \"/>\n",
       "</g>\n",
       "<g id=\"glyph-2-2\">\n",
       "<path d=\"M 0.890625 0 L 0.890625 -9.5625 L 2.046875 -9.5625 L 2.046875 0 Z M 0.890625 0 \"/>\n",
       "</g>\n",
       "<g id=\"glyph-2-3\">\n",
       "<path d=\"M 1.78125 -3.25 C 1.78125 -2.445312 1.941406 -1.828125 2.265625 -1.390625 C 2.597656 -0.953125 3.082031 -0.734375 3.71875 -0.734375 C 4.226562 -0.734375 4.632812 -0.832031 4.9375 -1.03125 C 5.238281 -1.238281 5.441406 -1.5 5.546875 -1.8125 L 6.5625 -1.515625 C 6.144531 -0.421875 5.195312 0.125 3.71875 0.125 C 2.6875 0.125 1.898438 -0.179688 1.359375 -0.796875 C 0.828125 -1.410156 0.5625 -2.320312 0.5625 -3.53125 C 0.5625 -4.6875 0.828125 -5.570312 1.359375 -6.1875 C 1.898438 -6.800781 2.675781 -7.109375 3.6875 -7.109375 C 5.726562 -7.109375 6.75 -5.867188 6.75 -3.390625 L 6.75 -3.25 Z M 5.5625 -4.125 C 5.488281 -4.863281 5.296875 -5.398438 4.984375 -5.734375 C 4.679688 -6.078125 4.238281 -6.25 3.65625 -6.25 C 3.09375 -6.25 2.644531 -6.0625 2.3125 -5.6875 C 1.988281 -5.3125 1.816406 -4.789062 1.796875 -4.125 Z M 5.5625 -4.125 \"/>\n",
       "</g>\n",
       "<g id=\"glyph-2-4\">\n",
       "<path d=\"M 6.125 -1.921875 C 6.125 -1.265625 5.875 -0.757812 5.375 -0.40625 C 4.882812 -0.0507812 4.191406 0.125 3.296875 0.125 C 2.421875 0.125 1.75 -0.015625 1.28125 -0.296875 C 0.8125 -0.585938 0.507812 -1.035156 0.375 -1.640625 L 1.390625 -1.84375 C 1.492188 -1.46875 1.695312 -1.191406 2 -1.015625 C 2.3125 -0.835938 2.742188 -0.75 3.296875 -0.75 C 3.878906 -0.75 4.304688 -0.835938 4.578125 -1.015625 C 4.859375 -1.203125 5 -1.476562 5 -1.84375 C 5 -2.113281 4.898438 -2.332031 4.703125 -2.5 C 4.515625 -2.675781 4.210938 -2.820312 3.796875 -2.9375 L 2.96875 -3.15625 C 2.300781 -3.320312 1.828125 -3.488281 1.546875 -3.65625 C 1.265625 -3.820312 1.039062 -4.019531 0.875 -4.25 C 0.71875 -4.488281 0.640625 -4.78125 0.640625 -5.125 C 0.640625 -5.757812 0.863281 -6.242188 1.3125 -6.578125 C 1.769531 -6.910156 2.4375 -7.078125 3.3125 -7.078125 C 4.082031 -7.078125 4.691406 -6.941406 5.140625 -6.671875 C 5.597656 -6.398438 5.882812 -5.96875 6 -5.375 L 4.953125 -5.25 C 4.890625 -5.5625 4.71875 -5.796875 4.4375 -5.953125 C 4.15625 -6.117188 3.78125 -6.203125 3.3125 -6.203125 C 2.78125 -6.203125 2.390625 -6.125 2.140625 -5.96875 C 1.890625 -5.8125 1.765625 -5.570312 1.765625 -5.25 C 1.765625 -5.050781 1.816406 -4.882812 1.921875 -4.75 C 2.023438 -4.625 2.175781 -4.515625 2.375 -4.421875 C 2.582031 -4.335938 3.007812 -4.21875 3.65625 -4.0625 C 4.269531 -3.90625 4.710938 -3.757812 4.984375 -3.625 C 5.253906 -3.5 5.46875 -3.351562 5.625 -3.1875 C 5.78125 -3.03125 5.898438 -2.847656 5.984375 -2.640625 C 6.078125 -2.429688 6.125 -2.191406 6.125 -1.921875 Z M 6.125 -1.921875 \"/>\n",
       "</g>\n",
       "<g id=\"glyph-2-5\">\n",
       "</g>\n",
       "<g id=\"glyph-2-6\">\n",
       "<path d=\"M 7.53125 0 L 6.484375 -2.65625 L 2.34375 -2.65625 L 1.296875 0 L 0.03125 0 L 3.734375 -9.078125 L 5.125 -9.078125 L 8.78125 0 Z M 4.421875 -8.15625 L 4.359375 -7.96875 C 4.253906 -7.613281 4.09375 -7.160156 3.875 -6.609375 L 2.71875 -3.609375 L 6.125 -3.609375 L 4.953125 -6.609375 C 4.828125 -6.910156 4.707031 -7.25 4.59375 -7.625 Z M 4.421875 -8.15625 \"/>\n",
       "</g>\n",
       "<g id=\"glyph-2-7\">\n",
       "<path d=\"M 4.953125 0 L 4.953125 -4.421875 C 4.953125 -5.097656 4.859375 -5.5625 4.671875 -5.8125 C 4.484375 -6.070312 4.148438 -6.203125 3.671875 -6.203125 C 3.179688 -6.203125 2.789062 -6.015625 2.5 -5.640625 C 2.207031 -5.265625 2.0625 -4.734375 2.0625 -4.046875 L 2.0625 0 L 0.921875 0 L 0.921875 -5.484375 C 0.921875 -6.296875 0.90625 -6.789062 0.875 -6.96875 L 1.96875 -6.96875 C 1.976562 -6.945312 1.984375 -6.890625 1.984375 -6.796875 C 1.984375 -6.703125 1.988281 -6.59375 2 -6.46875 C 2.007812 -6.351562 2.019531 -6.125 2.03125 -5.78125 L 2.046875 -5.78125 C 2.296875 -6.28125 2.582031 -6.625 2.90625 -6.8125 C 3.226562 -7.007812 3.617188 -7.109375 4.078125 -7.109375 C 4.609375 -7.109375 5.023438 -7 5.328125 -6.78125 C 5.640625 -6.570312 5.851562 -6.238281 5.96875 -5.78125 L 6 -5.78125 C 6.238281 -6.25 6.523438 -6.585938 6.859375 -6.796875 C 7.203125 -7.003906 7.617188 -7.109375 8.109375 -7.109375 C 8.816406 -7.109375 9.328125 -6.914062 9.640625 -6.53125 C 9.960938 -6.144531 10.125 -5.515625 10.125 -4.640625 L 10.125 0 L 8.984375 0 L 8.984375 -4.421875 C 8.984375 -5.097656 8.890625 -5.5625 8.703125 -5.8125 C 8.515625 -6.070312 8.179688 -6.203125 7.703125 -6.203125 C 7.191406 -6.203125 6.796875 -6.015625 6.515625 -5.640625 C 6.234375 -5.265625 6.09375 -4.734375 6.09375 -4.046875 L 6.09375 0 Z M 4.953125 0 \"/>\n",
       "</g>\n",
       "<g id=\"glyph-2-8\">\n",
       "<path d=\"M 6.78125 -3.5 C 6.78125 -2.269531 6.507812 -1.359375 5.96875 -0.765625 C 5.4375 -0.171875 4.660156 0.125 3.640625 0.125 C 2.617188 0.125 1.847656 -0.179688 1.328125 -0.796875 C 0.804688 -1.421875 0.546875 -2.320312 0.546875 -3.5 C 0.546875 -5.90625 1.59375 -7.109375 3.6875 -7.109375 C 4.75 -7.109375 5.53125 -6.8125 6.03125 -6.21875 C 6.53125 -5.632812 6.78125 -4.726562 6.78125 -3.5 Z M 5.5625 -3.5 C 5.5625 -4.457031 5.421875 -5.15625 5.140625 -5.59375 C 4.859375 -6.03125 4.378906 -6.25 3.703125 -6.25 C 3.023438 -6.25 2.53125 -6.023438 2.21875 -5.578125 C 1.914062 -5.128906 1.765625 -4.4375 1.765625 -3.5 C 1.765625 -2.570312 1.914062 -1.878906 2.21875 -1.421875 C 2.519531 -0.960938 2.988281 -0.734375 3.625 -0.734375 C 4.320312 -0.734375 4.816406 -0.953125 5.109375 -1.390625 C 5.410156 -1.835938 5.5625 -2.539062 5.5625 -3.5 Z M 5.5625 -3.5 \"/>\n",
       "</g>\n",
       "<g id=\"glyph-2-9\">\n",
       "<path d=\"M 2.03125 -6.96875 L 2.03125 -2.546875 C 2.03125 -2.085938 2.070312 -1.734375 2.15625 -1.484375 C 2.25 -1.234375 2.394531 -1.050781 2.59375 -0.9375 C 2.789062 -0.820312 3.082031 -0.765625 3.46875 -0.765625 C 4.019531 -0.765625 4.457031 -0.957031 4.78125 -1.34375 C 5.101562 -1.726562 5.265625 -2.257812 5.265625 -2.9375 L 5.265625 -6.96875 L 6.421875 -6.96875 L 6.421875 -1.484375 C 6.421875 -0.671875 6.4375 -0.175781 6.46875 0 L 5.375 0 C 5.363281 -0.0195312 5.351562 -0.078125 5.34375 -0.171875 C 5.34375 -0.265625 5.335938 -0.375 5.328125 -0.5 C 5.328125 -0.625 5.320312 -0.851562 5.3125 -1.1875 L 5.296875 -1.1875 C 5.035156 -0.707031 4.726562 -0.367188 4.375 -0.171875 C 4.019531 0.0234375 3.582031 0.125 3.0625 0.125 C 2.300781 0.125 1.742188 -0.0625 1.390625 -0.4375 C 1.035156 -0.820312 0.859375 -1.453125 0.859375 -2.328125 L 0.859375 -6.96875 Z M 2.03125 -6.96875 \"/>\n",
       "</g>\n",
       "<g id=\"glyph-2-10\">\n",
       "<path d=\"M 5.3125 0 L 5.3125 -4.421875 C 5.3125 -4.878906 5.265625 -5.234375 5.171875 -5.484375 C 5.085938 -5.742188 4.945312 -5.925781 4.75 -6.03125 C 4.550781 -6.144531 4.257812 -6.203125 3.875 -6.203125 C 3.320312 -6.203125 2.882812 -6.007812 2.5625 -5.625 C 2.238281 -5.25 2.078125 -4.722656 2.078125 -4.046875 L 2.078125 0 L 0.921875 0 L 0.921875 -5.484375 C 0.921875 -6.296875 0.90625 -6.789062 0.875 -6.96875 L 1.96875 -6.96875 C 1.976562 -6.945312 1.984375 -6.890625 1.984375 -6.796875 C 1.984375 -6.703125 1.988281 -6.59375 2 -6.46875 C 2.007812 -6.351562 2.019531 -6.125 2.03125 -5.78125 L 2.046875 -5.78125 C 2.304688 -6.257812 2.613281 -6.597656 2.96875 -6.796875 C 3.320312 -7.003906 3.757812 -7.109375 4.28125 -7.109375 C 5.039062 -7.109375 5.597656 -6.914062 5.953125 -6.53125 C 6.304688 -6.15625 6.484375 -5.523438 6.484375 -4.640625 L 6.484375 0 Z M 5.3125 0 \"/>\n",
       "</g>\n",
       "<g id=\"glyph-2-11\">\n",
       "<path d=\"M 3.578125 -0.046875 C 3.191406 0.0546875 2.796875 0.109375 2.390625 0.109375 C 1.460938 0.109375 1 -0.414062 1 -1.46875 L 1 -6.125 L 0.203125 -6.125 L 0.203125 -6.96875 L 1.046875 -6.96875 L 1.390625 -8.53125 L 2.171875 -8.53125 L 2.171875 -6.96875 L 3.453125 -6.96875 L 3.453125 -6.125 L 2.171875 -6.125 L 2.171875 -1.734375 C 2.171875 -1.390625 2.222656 -1.148438 2.328125 -1.015625 C 2.441406 -0.878906 2.632812 -0.8125 2.90625 -0.8125 C 3.0625 -0.8125 3.285156 -0.84375 3.578125 -0.90625 Z M 3.578125 -0.046875 \"/>\n",
       "</g>\n",
       "<g id=\"glyph-2-12\">\n",
       "<path d=\"M 9.640625 -4.578125 C 9.640625 -3.628906 9.457031 -2.796875 9.09375 -2.078125 C 8.726562 -1.367188 8.207031 -0.820312 7.53125 -0.4375 C 6.851562 -0.0625 6.050781 0.125 5.125 0.125 C 4.1875 0.125 3.378906 -0.0625 2.703125 -0.4375 C 2.035156 -0.8125 1.519531 -1.359375 1.15625 -2.078125 C 0.800781 -2.796875 0.625 -3.628906 0.625 -4.578125 C 0.625 -6.035156 1.019531 -7.171875 1.8125 -7.984375 C 2.613281 -8.804688 3.722656 -9.21875 5.140625 -9.21875 C 6.066406 -9.21875 6.867188 -9.03125 7.546875 -8.65625 C 8.222656 -8.289062 8.738281 -7.757812 9.09375 -7.0625 C 9.457031 -6.363281 9.640625 -5.535156 9.640625 -4.578125 Z M 8.375 -4.578125 C 8.375 -5.710938 8.09375 -6.601562 7.53125 -7.25 C 6.96875 -7.894531 6.171875 -8.21875 5.140625 -8.21875 C 4.097656 -8.21875 3.289062 -7.898438 2.71875 -7.265625 C 2.15625 -6.628906 1.875 -5.734375 1.875 -4.578125 C 1.875 -3.441406 2.160156 -2.539062 2.734375 -1.875 C 3.304688 -1.207031 4.101562 -0.875 5.125 -0.875 C 6.175781 -0.875 6.976562 -1.195312 7.53125 -1.84375 C 8.09375 -2.488281 8.375 -3.398438 8.375 -4.578125 Z M 8.375 -4.578125 \"/>\n",
       "</g>\n",
       "<g id=\"glyph-2-13\">\n",
       "<path d=\"M 0.890625 -8.453125 L 0.890625 -9.5625 L 2.046875 -9.5625 L 2.046875 -8.453125 Z M 0.890625 0 L 0.890625 -6.96875 L 2.046875 -6.96875 L 2.046875 0 Z M 0.890625 0 \"/>\n",
       "</g>\n",
       "<g id=\"glyph-2-14\">\n",
       "<path d=\"M 0.921875 0 L 0.921875 -5.34375 C 0.921875 -5.832031 0.90625 -6.375 0.875 -6.96875 L 1.96875 -6.96875 C 2.007812 -6.1875 2.03125 -5.710938 2.03125 -5.546875 L 2.046875 -5.546875 C 2.234375 -6.148438 2.445312 -6.5625 2.6875 -6.78125 C 2.925781 -7 3.265625 -7.109375 3.703125 -7.109375 C 3.859375 -7.109375 4.015625 -7.085938 4.171875 -7.046875 L 4.171875 -5.96875 C 4.023438 -6.019531 3.820312 -6.046875 3.5625 -6.046875 C 3.082031 -6.046875 2.710938 -5.835938 2.453125 -5.421875 C 2.203125 -5.003906 2.078125 -4.410156 2.078125 -3.640625 L 2.078125 0 Z M 0.921875 0 \"/>\n",
       "</g>\n",
       "</g>\n",
       "<clipPath id=\"clip-0\">\n",
       "<path clip-rule=\"nonzero\" d=\"M 45.527344 23.960938 L 498.523438 23.960938 L 498.523438 485.585938 L 45.527344 485.585938 Z M 45.527344 23.960938 \"/>\n",
       "</clipPath>\n",
       "<clipPath id=\"clip-1\">\n",
       "<path clip-rule=\"nonzero\" d=\"M 45.527344 402 L 498.523438 402 L 498.523438 404 L 45.527344 404 Z M 45.527344 402 \"/>\n",
       "</clipPath>\n",
       "<clipPath id=\"clip-2\">\n",
       "<path clip-rule=\"nonzero\" d=\"M 45.527344 300 L 498.523438 300 L 498.523438 302 L 45.527344 302 Z M 45.527344 300 \"/>\n",
       "</clipPath>\n",
       "<clipPath id=\"clip-3\">\n",
       "<path clip-rule=\"nonzero\" d=\"M 45.527344 198 L 498.523438 198 L 498.523438 199 L 45.527344 199 Z M 45.527344 198 \"/>\n",
       "</clipPath>\n",
       "<clipPath id=\"clip-4\">\n",
       "<path clip-rule=\"nonzero\" d=\"M 45.527344 95 L 498.523438 95 L 498.523438 97 L 45.527344 97 Z M 45.527344 95 \"/>\n",
       "</clipPath>\n",
       "<clipPath id=\"clip-5\">\n",
       "<path clip-rule=\"nonzero\" d=\"M 107 23.960938 L 108 23.960938 L 108 485.585938 L 107 485.585938 Z M 107 23.960938 \"/>\n",
       "</clipPath>\n",
       "<clipPath id=\"clip-6\">\n",
       "<path clip-rule=\"nonzero\" d=\"M 216 23.960938 L 218 23.960938 L 218 485.585938 L 216 485.585938 Z M 216 23.960938 \"/>\n",
       "</clipPath>\n",
       "<clipPath id=\"clip-7\">\n",
       "<path clip-rule=\"nonzero\" d=\"M 326 23.960938 L 328 23.960938 L 328 485.585938 L 326 485.585938 Z M 326 23.960938 \"/>\n",
       "</clipPath>\n",
       "<clipPath id=\"clip-8\">\n",
       "<path clip-rule=\"nonzero\" d=\"M 436 23.960938 L 438 23.960938 L 438 485.585938 L 436 485.585938 Z M 436 23.960938 \"/>\n",
       "</clipPath>\n",
       "<clipPath id=\"clip-9\">\n",
       "<path clip-rule=\"nonzero\" d=\"M 45.527344 453 L 498.523438 453 L 498.523438 455 L 45.527344 455 Z M 45.527344 453 \"/>\n",
       "</clipPath>\n",
       "<clipPath id=\"clip-10\">\n",
       "<path clip-rule=\"nonzero\" d=\"M 45.527344 351 L 498.523438 351 L 498.523438 353 L 45.527344 353 Z M 45.527344 351 \"/>\n",
       "</clipPath>\n",
       "<clipPath id=\"clip-11\">\n",
       "<path clip-rule=\"nonzero\" d=\"M 45.527344 249 L 498.523438 249 L 498.523438 251 L 45.527344 251 Z M 45.527344 249 \"/>\n",
       "</clipPath>\n",
       "<clipPath id=\"clip-12\">\n",
       "<path clip-rule=\"nonzero\" d=\"M 45.527344 146 L 498.523438 146 L 498.523438 148 L 45.527344 148 Z M 45.527344 146 \"/>\n",
       "</clipPath>\n",
       "<clipPath id=\"clip-13\">\n",
       "<path clip-rule=\"nonzero\" d=\"M 45.527344 44 L 498.523438 44 L 498.523438 46 L 45.527344 46 Z M 45.527344 44 \"/>\n",
       "</clipPath>\n",
       "<clipPath id=\"clip-14\">\n",
       "<path clip-rule=\"nonzero\" d=\"M 51 23.960938 L 53 23.960938 L 53 485.585938 L 51 485.585938 Z M 51 23.960938 \"/>\n",
       "</clipPath>\n",
       "<clipPath id=\"clip-15\">\n",
       "<path clip-rule=\"nonzero\" d=\"M 161 23.960938 L 163 23.960938 L 163 485.585938 L 161 485.585938 Z M 161 23.960938 \"/>\n",
       "</clipPath>\n",
       "<clipPath id=\"clip-16\">\n",
       "<path clip-rule=\"nonzero\" d=\"M 271 23.960938 L 273 23.960938 L 273 485.585938 L 271 485.585938 Z M 271 23.960938 \"/>\n",
       "</clipPath>\n",
       "<clipPath id=\"clip-17\">\n",
       "<path clip-rule=\"nonzero\" d=\"M 381 23.960938 L 383 23.960938 L 383 485.585938 L 381 485.585938 Z M 381 23.960938 \"/>\n",
       "</clipPath>\n",
       "<clipPath id=\"clip-18\">\n",
       "<path clip-rule=\"nonzero\" d=\"M 491 23.960938 L 493 23.960938 L 493 485.585938 L 491 485.585938 Z M 491 23.960938 \"/>\n",
       "</clipPath>\n",
       "</defs>\n",
       "<rect x=\"-50.4\" y=\"-50.4\" width=\"604.8\" height=\"604.8\" fill=\"rgb(100%, 100%, 100%)\" fill-opacity=\"1\"/>\n",
       "<rect x=\"-50.4\" y=\"-50.4\" width=\"604.8\" height=\"604.8\" fill=\"rgb(100%, 100%, 100%)\" fill-opacity=\"1\"/>\n",
       "<path fill=\"none\" stroke-width=\"1.066978\" stroke-linecap=\"round\" stroke-linejoin=\"round\" stroke=\"rgb(100%, 100%, 100%)\" stroke-opacity=\"1\" stroke-miterlimit=\"10\" d=\"M 0 504 L 504 504 L 504 0 L 0 0 Z M 0 504 \"/>\n",
       "<g clip-path=\"url(#clip-0)\">\n",
       "<path fill-rule=\"nonzero\" fill=\"rgb(92.156863%, 92.156863%, 92.156863%)\" fill-opacity=\"1\" d=\"M 45.527344 485.585938 L 498.523438 485.585938 L 498.523438 23.960938 L 45.527344 23.960938 Z M 45.527344 485.585938 \"/>\n",
       "</g>\n",
       "<g clip-path=\"url(#clip-1)\">\n",
       "<path fill=\"none\" stroke-width=\"0.533489\" stroke-linecap=\"butt\" stroke-linejoin=\"round\" stroke=\"rgb(100%, 100%, 100%)\" stroke-opacity=\"1\" stroke-miterlimit=\"10\" d=\"M 45.527344 403.191406 L 498.519531 403.191406 \"/>\n",
       "</g>\n",
       "<g clip-path=\"url(#clip-2)\">\n",
       "<path fill=\"none\" stroke-width=\"0.533489\" stroke-linecap=\"butt\" stroke-linejoin=\"round\" stroke=\"rgb(100%, 100%, 100%)\" stroke-opacity=\"1\" stroke-miterlimit=\"10\" d=\"M 45.527344 300.835938 L 498.519531 300.835938 \"/>\n",
       "</g>\n",
       "<g clip-path=\"url(#clip-3)\">\n",
       "<path fill=\"none\" stroke-width=\"0.533489\" stroke-linecap=\"butt\" stroke-linejoin=\"round\" stroke=\"rgb(100%, 100%, 100%)\" stroke-opacity=\"1\" stroke-miterlimit=\"10\" d=\"M 45.527344 198.476562 L 498.519531 198.476562 \"/>\n",
       "</g>\n",
       "<g clip-path=\"url(#clip-4)\">\n",
       "<path fill=\"none\" stroke-width=\"0.533489\" stroke-linecap=\"butt\" stroke-linejoin=\"round\" stroke=\"rgb(100%, 100%, 100%)\" stroke-opacity=\"1\" stroke-miterlimit=\"10\" d=\"M 45.527344 96.121094 L 498.519531 96.121094 \"/>\n",
       "</g>\n",
       "<g clip-path=\"url(#clip-5)\">\n",
       "<path fill=\"none\" stroke-width=\"0.533489\" stroke-linecap=\"butt\" stroke-linejoin=\"round\" stroke=\"rgb(100%, 100%, 100%)\" stroke-opacity=\"1\" stroke-miterlimit=\"10\" d=\"M 107.296875 485.585938 L 107.296875 23.960938 \"/>\n",
       "</g>\n",
       "<g clip-path=\"url(#clip-6)\">\n",
       "<path fill=\"none\" stroke-width=\"0.533489\" stroke-linecap=\"butt\" stroke-linejoin=\"round\" stroke=\"rgb(100%, 100%, 100%)\" stroke-opacity=\"1\" stroke-miterlimit=\"10\" d=\"M 217.113281 485.585938 L 217.113281 23.960938 \"/>\n",
       "</g>\n",
       "<g clip-path=\"url(#clip-7)\">\n",
       "<path fill=\"none\" stroke-width=\"0.533489\" stroke-linecap=\"butt\" stroke-linejoin=\"round\" stroke=\"rgb(100%, 100%, 100%)\" stroke-opacity=\"1\" stroke-miterlimit=\"10\" d=\"M 326.929688 485.585938 L 326.929688 23.960938 \"/>\n",
       "</g>\n",
       "<g clip-path=\"url(#clip-8)\">\n",
       "<path fill=\"none\" stroke-width=\"0.533489\" stroke-linecap=\"butt\" stroke-linejoin=\"round\" stroke=\"rgb(100%, 100%, 100%)\" stroke-opacity=\"1\" stroke-miterlimit=\"10\" d=\"M 436.75 485.585938 L 436.75 23.960938 \"/>\n",
       "</g>\n",
       "<g clip-path=\"url(#clip-9)\">\n",
       "<path fill=\"none\" stroke-width=\"1.066978\" stroke-linecap=\"butt\" stroke-linejoin=\"round\" stroke=\"rgb(100%, 100%, 100%)\" stroke-opacity=\"1\" stroke-miterlimit=\"10\" d=\"M 45.527344 454.367188 L 498.519531 454.367188 \"/>\n",
       "</g>\n",
       "<g clip-path=\"url(#clip-10)\">\n",
       "<path fill=\"none\" stroke-width=\"1.066978\" stroke-linecap=\"butt\" stroke-linejoin=\"round\" stroke=\"rgb(100%, 100%, 100%)\" stroke-opacity=\"1\" stroke-miterlimit=\"10\" d=\"M 45.527344 352.011719 L 498.519531 352.011719 \"/>\n",
       "</g>\n",
       "<g clip-path=\"url(#clip-11)\">\n",
       "<path fill=\"none\" stroke-width=\"1.066978\" stroke-linecap=\"butt\" stroke-linejoin=\"round\" stroke=\"rgb(100%, 100%, 100%)\" stroke-opacity=\"1\" stroke-miterlimit=\"10\" d=\"M 45.527344 249.65625 L 498.519531 249.65625 \"/>\n",
       "</g>\n",
       "<g clip-path=\"url(#clip-12)\">\n",
       "<path fill=\"none\" stroke-width=\"1.066978\" stroke-linecap=\"butt\" stroke-linejoin=\"round\" stroke=\"rgb(100%, 100%, 100%)\" stroke-opacity=\"1\" stroke-miterlimit=\"10\" d=\"M 45.527344 147.300781 L 498.519531 147.300781 \"/>\n",
       "</g>\n",
       "<g clip-path=\"url(#clip-13)\">\n",
       "<path fill=\"none\" stroke-width=\"1.066978\" stroke-linecap=\"butt\" stroke-linejoin=\"round\" stroke=\"rgb(100%, 100%, 100%)\" stroke-opacity=\"1\" stroke-miterlimit=\"10\" d=\"M 45.527344 44.945312 L 498.519531 44.945312 \"/>\n",
       "</g>\n",
       "<g clip-path=\"url(#clip-14)\">\n",
       "<path fill=\"none\" stroke-width=\"1.066978\" stroke-linecap=\"butt\" stroke-linejoin=\"round\" stroke=\"rgb(100%, 100%, 100%)\" stroke-opacity=\"1\" stroke-miterlimit=\"10\" d=\"M 52.390625 485.585938 L 52.390625 23.960938 \"/>\n",
       "</g>\n",
       "<g clip-path=\"url(#clip-15)\">\n",
       "<path fill=\"none\" stroke-width=\"1.066978\" stroke-linecap=\"butt\" stroke-linejoin=\"round\" stroke=\"rgb(100%, 100%, 100%)\" stroke-opacity=\"1\" stroke-miterlimit=\"10\" d=\"M 162.207031 485.585938 L 162.207031 23.960938 \"/>\n",
       "</g>\n",
       "<g clip-path=\"url(#clip-16)\">\n",
       "<path fill=\"none\" stroke-width=\"1.066978\" stroke-linecap=\"butt\" stroke-linejoin=\"round\" stroke=\"rgb(100%, 100%, 100%)\" stroke-opacity=\"1\" stroke-miterlimit=\"10\" d=\"M 272.023438 485.585938 L 272.023438 23.960938 \"/>\n",
       "</g>\n",
       "<g clip-path=\"url(#clip-17)\">\n",
       "<path fill=\"none\" stroke-width=\"1.066978\" stroke-linecap=\"butt\" stroke-linejoin=\"round\" stroke=\"rgb(100%, 100%, 100%)\" stroke-opacity=\"1\" stroke-miterlimit=\"10\" d=\"M 381.839844 485.585938 L 381.839844 23.960938 \"/>\n",
       "</g>\n",
       "<g clip-path=\"url(#clip-18)\">\n",
       "<path fill=\"none\" stroke-width=\"1.066978\" stroke-linecap=\"butt\" stroke-linejoin=\"round\" stroke=\"rgb(100%, 100%, 100%)\" stroke-opacity=\"1\" stroke-miterlimit=\"10\" d=\"M 491.65625 485.585938 L 491.65625 23.960938 \"/>\n",
       "</g>\n",
       "<path fill=\"none\" stroke-width=\"1.066978\" stroke-linecap=\"butt\" stroke-linejoin=\"round\" stroke=\"rgb(20%, 20%, 20%)\" stroke-opacity=\"1\" stroke-miterlimit=\"10\" d=\"M 272.023438 239.421875 L 272.023438 44.945312 \"/>\n",
       "<path fill=\"none\" stroke-width=\"1.066978\" stroke-linecap=\"butt\" stroke-linejoin=\"round\" stroke=\"rgb(20%, 20%, 20%)\" stroke-opacity=\"1\" stroke-miterlimit=\"10\" d=\"M 272.023438 449.25 L 272.023438 464.601562 \"/>\n",
       "<path fill-rule=\"nonzero\" fill=\"rgb(100%, 100%, 100%)\" fill-opacity=\"1\" stroke-width=\"1.066978\" stroke-linecap=\"butt\" stroke-linejoin=\"miter\" stroke=\"rgb(20%, 20%, 20%)\" stroke-opacity=\"1\" stroke-miterlimit=\"10\" d=\"M 66.117188 239.421875 L 66.117188 449.25 L 477.929688 449.25 L 477.929688 239.421875 Z M 66.117188 239.421875 \"/>\n",
       "<path fill=\"none\" stroke-width=\"2.133957\" stroke-linecap=\"butt\" stroke-linejoin=\"miter\" stroke=\"rgb(20%, 20%, 20%)\" stroke-opacity=\"1\" stroke-miterlimit=\"10\" d=\"M 66.117188 433.898438 L 477.929688 433.898438 \"/>\n",
       "<g fill=\"rgb(30.196078%, 30.196078%, 30.196078%)\" fill-opacity=\"1\">\n",
       "<use xlink:href=\"#glyph-0-0\" x=\"35.59375\" y=\"457.833008\"/>\n",
       "</g>\n",
       "<g fill=\"rgb(30.196078%, 30.196078%, 30.196078%)\" fill-opacity=\"1\">\n",
       "<use xlink:href=\"#glyph-0-1\" x=\"25.59375\" y=\"355.477539\"/>\n",
       "<use xlink:href=\"#glyph-0-0\" x=\"30.59375\" y=\"355.477539\"/>\n",
       "<use xlink:href=\"#glyph-0-0\" x=\"35.59375\" y=\"355.477539\"/>\n",
       "</g>\n",
       "<g fill=\"rgb(30.196078%, 30.196078%, 30.196078%)\" fill-opacity=\"1\">\n",
       "<use xlink:href=\"#glyph-0-2\" x=\"20.59375\" y=\"253.12207\"/>\n",
       "<use xlink:href=\"#glyph-0-0\" x=\"25.59375\" y=\"253.12207\"/>\n",
       "<use xlink:href=\"#glyph-0-0\" x=\"30.59375\" y=\"253.12207\"/>\n",
       "<use xlink:href=\"#glyph-0-0\" x=\"35.59375\" y=\"253.12207\"/>\n",
       "</g>\n",
       "<g fill=\"rgb(30.196078%, 30.196078%, 30.196078%)\" fill-opacity=\"1\">\n",
       "<use xlink:href=\"#glyph-0-2\" x=\"20.59375\" y=\"150.766602\"/>\n",
       "<use xlink:href=\"#glyph-0-1\" x=\"25.59375\" y=\"150.766602\"/>\n",
       "<use xlink:href=\"#glyph-0-0\" x=\"30.59375\" y=\"150.766602\"/>\n",
       "<use xlink:href=\"#glyph-0-0\" x=\"35.59375\" y=\"150.766602\"/>\n",
       "</g>\n",
       "<g fill=\"rgb(30.196078%, 30.196078%, 30.196078%)\" fill-opacity=\"1\">\n",
       "<use xlink:href=\"#glyph-0-3\" x=\"20.59375\" y=\"48.411133\"/>\n",
       "<use xlink:href=\"#glyph-0-0\" x=\"25.59375\" y=\"48.411133\"/>\n",
       "<use xlink:href=\"#glyph-0-0\" x=\"30.59375\" y=\"48.411133\"/>\n",
       "<use xlink:href=\"#glyph-0-0\" x=\"35.59375\" y=\"48.411133\"/>\n",
       "</g>\n",
       "<path fill=\"none\" stroke-width=\"1.066978\" stroke-linecap=\"butt\" stroke-linejoin=\"round\" stroke=\"rgb(20%, 20%, 20%)\" stroke-opacity=\"1\" stroke-miterlimit=\"10\" d=\"M 42.785156 454.367188 L 45.527344 454.367188 \"/>\n",
       "<path fill=\"none\" stroke-width=\"1.066978\" stroke-linecap=\"butt\" stroke-linejoin=\"round\" stroke=\"rgb(20%, 20%, 20%)\" stroke-opacity=\"1\" stroke-miterlimit=\"10\" d=\"M 42.785156 352.011719 L 45.527344 352.011719 \"/>\n",
       "<path fill=\"none\" stroke-width=\"1.066978\" stroke-linecap=\"butt\" stroke-linejoin=\"round\" stroke=\"rgb(20%, 20%, 20%)\" stroke-opacity=\"1\" stroke-miterlimit=\"10\" d=\"M 42.785156 249.65625 L 45.527344 249.65625 \"/>\n",
       "<path fill=\"none\" stroke-width=\"1.066978\" stroke-linecap=\"butt\" stroke-linejoin=\"round\" stroke=\"rgb(20%, 20%, 20%)\" stroke-opacity=\"1\" stroke-miterlimit=\"10\" d=\"M 42.785156 147.300781 L 45.527344 147.300781 \"/>\n",
       "<path fill=\"none\" stroke-width=\"1.066978\" stroke-linecap=\"butt\" stroke-linejoin=\"round\" stroke=\"rgb(20%, 20%, 20%)\" stroke-opacity=\"1\" stroke-miterlimit=\"10\" d=\"M 42.785156 44.945312 L 45.527344 44.945312 \"/>\n",
       "<path fill=\"none\" stroke-width=\"1.066978\" stroke-linecap=\"butt\" stroke-linejoin=\"round\" stroke=\"rgb(20%, 20%, 20%)\" stroke-opacity=\"1\" stroke-miterlimit=\"10\" d=\"M 52.390625 488.324219 L 52.390625 485.585938 \"/>\n",
       "<path fill=\"none\" stroke-width=\"1.066978\" stroke-linecap=\"butt\" stroke-linejoin=\"round\" stroke=\"rgb(20%, 20%, 20%)\" stroke-opacity=\"1\" stroke-miterlimit=\"10\" d=\"M 162.207031 488.324219 L 162.207031 485.585938 \"/>\n",
       "<path fill=\"none\" stroke-width=\"1.066978\" stroke-linecap=\"butt\" stroke-linejoin=\"round\" stroke=\"rgb(20%, 20%, 20%)\" stroke-opacity=\"1\" stroke-miterlimit=\"10\" d=\"M 272.023438 488.324219 L 272.023438 485.585938 \"/>\n",
       "<path fill=\"none\" stroke-width=\"1.066978\" stroke-linecap=\"butt\" stroke-linejoin=\"round\" stroke=\"rgb(20%, 20%, 20%)\" stroke-opacity=\"1\" stroke-miterlimit=\"10\" d=\"M 381.839844 488.324219 L 381.839844 485.585938 \"/>\n",
       "<path fill=\"none\" stroke-width=\"1.066978\" stroke-linecap=\"butt\" stroke-linejoin=\"round\" stroke=\"rgb(20%, 20%, 20%)\" stroke-opacity=\"1\" stroke-miterlimit=\"10\" d=\"M 491.65625 488.324219 L 491.65625 485.585938 \"/>\n",
       "<g fill=\"rgb(30.196078%, 30.196078%, 30.196078%)\" fill-opacity=\"1\">\n",
       "<use xlink:href=\"#glyph-0-4\" x=\"44.890625\" y=\"497.485352\"/>\n",
       "<use xlink:href=\"#glyph-0-0\" x=\"47.890625\" y=\"497.485352\"/>\n",
       "<use xlink:href=\"#glyph-0-5\" x=\"52.890625\" y=\"497.485352\"/>\n",
       "<use xlink:href=\"#glyph-0-6\" x=\"54.890625\" y=\"497.485352\"/>\n",
       "</g>\n",
       "<g fill=\"rgb(30.196078%, 30.196078%, 30.196078%)\" fill-opacity=\"1\">\n",
       "<use xlink:href=\"#glyph-0-4\" x=\"154.707031\" y=\"497.485352\"/>\n",
       "<use xlink:href=\"#glyph-0-0\" x=\"157.707031\" y=\"497.485352\"/>\n",
       "<use xlink:href=\"#glyph-0-5\" x=\"162.707031\" y=\"497.485352\"/>\n",
       "<use xlink:href=\"#glyph-0-3\" x=\"164.707031\" y=\"497.485352\"/>\n",
       "</g>\n",
       "<g fill=\"rgb(30.196078%, 30.196078%, 30.196078%)\" fill-opacity=\"1\">\n",
       "<use xlink:href=\"#glyph-0-0\" x=\"266.023438\" y=\"497.485352\"/>\n",
       "<use xlink:href=\"#glyph-0-5\" x=\"271.023438\" y=\"497.485352\"/>\n",
       "<use xlink:href=\"#glyph-0-0\" x=\"273.023438\" y=\"497.485352\"/>\n",
       "</g>\n",
       "<g fill=\"rgb(30.196078%, 30.196078%, 30.196078%)\" fill-opacity=\"1\">\n",
       "<use xlink:href=\"#glyph-0-0\" x=\"375.839844\" y=\"497.485352\"/>\n",
       "<use xlink:href=\"#glyph-0-5\" x=\"380.839844\" y=\"497.485352\"/>\n",
       "<use xlink:href=\"#glyph-0-3\" x=\"382.839844\" y=\"497.485352\"/>\n",
       "</g>\n",
       "<g fill=\"rgb(30.196078%, 30.196078%, 30.196078%)\" fill-opacity=\"1\">\n",
       "<use xlink:href=\"#glyph-0-0\" x=\"485.65625\" y=\"497.485352\"/>\n",
       "<use xlink:href=\"#glyph-0-5\" x=\"490.65625\" y=\"497.485352\"/>\n",
       "<use xlink:href=\"#glyph-0-6\" x=\"492.65625\" y=\"497.485352\"/>\n",
       "</g>\n",
       "<g fill=\"rgb(0%, 0%, 0%)\" fill-opacity=\"1\">\n",
       "<use xlink:href=\"#glyph-1-0\" x=\"13.438477\" y=\"289.773438\"/>\n",
       "<use xlink:href=\"#glyph-1-1\" x=\"13.438477\" y=\"282.773438\"/>\n",
       "<use xlink:href=\"#glyph-1-2\" x=\"13.438477\" y=\"276.773438\"/>\n",
       "<use xlink:href=\"#glyph-1-3\" x=\"13.438477\" y=\"274.773438\"/>\n",
       "<use xlink:href=\"#glyph-1-4\" x=\"13.438477\" y=\"268.773438\"/>\n",
       "<use xlink:href=\"#glyph-1-5\" x=\"13.438477\" y=\"262.773438\"/>\n",
       "<use xlink:href=\"#glyph-1-6\" x=\"13.438477\" y=\"256.773438\"/>\n",
       "<use xlink:href=\"#glyph-1-7\" x=\"13.438477\" y=\"249.773438\"/>\n",
       "<use xlink:href=\"#glyph-1-8\" x=\"13.438477\" y=\"240.773438\"/>\n",
       "<use xlink:href=\"#glyph-1-9\" x=\"13.438477\" y=\"234.773438\"/>\n",
       "<use xlink:href=\"#glyph-1-10\" x=\"13.438477\" y=\"228.773438\"/>\n",
       "<use xlink:href=\"#glyph-1-11\" x=\"13.438477\" y=\"222.773438\"/>\n",
       "</g>\n",
       "<g fill=\"rgb(0%, 0%, 0%)\" fill-opacity=\"1\">\n",
       "<use xlink:href=\"#glyph-2-0\" x=\"45.527344\" y=\"15.429688\"/>\n",
       "<use xlink:href=\"#glyph-2-1\" x=\"54.527344\" y=\"15.429688\"/>\n",
       "<use xlink:href=\"#glyph-2-2\" x=\"61.527344\" y=\"15.429688\"/>\n",
       "<use xlink:href=\"#glyph-2-3\" x=\"64.527344\" y=\"15.429688\"/>\n",
       "<use xlink:href=\"#glyph-2-4\" x=\"71.527344\" y=\"15.429688\"/>\n",
       "<use xlink:href=\"#glyph-2-5\" x=\"78.527344\" y=\"15.429688\"/>\n",
       "<use xlink:href=\"#glyph-2-6\" x=\"81.527344\" y=\"15.429688\"/>\n",
       "<use xlink:href=\"#glyph-2-7\" x=\"90.527344\" y=\"15.429688\"/>\n",
       "<use xlink:href=\"#glyph-2-8\" x=\"101.527344\" y=\"15.429688\"/>\n",
       "<use xlink:href=\"#glyph-2-9\" x=\"108.527344\" y=\"15.429688\"/>\n",
       "<use xlink:href=\"#glyph-2-10\" x=\"115.527344\" y=\"15.429688\"/>\n",
       "<use xlink:href=\"#glyph-2-11\" x=\"122.527344\" y=\"15.429688\"/>\n",
       "<use xlink:href=\"#glyph-2-5\" x=\"126.527344\" y=\"15.429688\"/>\n",
       "<use xlink:href=\"#glyph-2-12\" x=\"130.527344\" y=\"15.429688\"/>\n",
       "<use xlink:href=\"#glyph-2-9\" x=\"140.527344\" y=\"15.429688\"/>\n",
       "<use xlink:href=\"#glyph-2-11\" x=\"147.527344\" y=\"15.429688\"/>\n",
       "<use xlink:href=\"#glyph-2-2\" x=\"151.527344\" y=\"15.429688\"/>\n",
       "<use xlink:href=\"#glyph-2-13\" x=\"154.527344\" y=\"15.429688\"/>\n",
       "<use xlink:href=\"#glyph-2-3\" x=\"157.527344\" y=\"15.429688\"/>\n",
       "<use xlink:href=\"#glyph-2-14\" x=\"164.527344\" y=\"15.429688\"/>\n",
       "<use xlink:href=\"#glyph-2-4\" x=\"168.527344\" y=\"15.429688\"/>\n",
       "</g>\n",
       "</svg>\n"
      ],
      "text/plain": [
       "plot without title"
      ]
     },
     "metadata": {
      "application/pdf": {
       "height": 420,
       "width": 420
      },
      "image/jpeg": {
       "height": 420,
       "width": 420
      },
      "image/png": {
       "height": 420,
       "width": 420
      },
      "image/svg+xml": {
       "height": 420,
       "isolated": true,
       "width": 420
      }
     },
     "output_type": "display_data"
    }
   ],
   "source": [
    "# TODO: Create a boxplot for Sales_Amount\n",
    "# Use ggplot2 to create a boxplot showing outliers\n",
    "boxplot_sales <- ggplot(sales_imputed, aes(y = Sales_Amount)) +\n",
    "  geom_boxplot(outlier.colour = \"red\", outlier.shape = 16) +\n",
    "  ggtitle(\"Sales Amount Outliers\") +\n",
    "  ylab(\"Sales_Amount\")\n",
    "\n",
    "# Display the plot\n",
    "print(boxplot_sales)"
   ]
  },
  {
   "cell_type": "markdown",
   "id": "00ed2ac7",
   "metadata": {},
   "source": [
    "### 3.3 Outlier Treatment - Option A (Removal)\n",
    "\n",
    "Remove rows containing outliers and assess the impact."
   ]
  },
  {
   "cell_type": "code",
   "execution_count": 52,
   "id": "0ba04465",
   "metadata": {
    "vscode": {
     "languageId": "r"
    }
   },
   "outputs": [
    {
     "name": "stdout",
     "output_type": "stream",
     "text": [
      "[1] \"Original rows: 4\"\n",
      "[1] \"After removing outliers: 3\"\n",
      "[1] \"Rows removed: 1\"\n"
     ]
    }
   ],
   "source": [
    "### TODO: Remove outliers from the imputed dataset\n",
    "sales_outliers_removed <- sales_imputed %>%\n",
    "  filter(Sales_Amount >= lower_threshold & Sales_Amount <= upper_threshold)\n",
    "# Hint: Use filter() to keep only rows within the threshold bounds\n",
    "\n",
    "print(paste(\"Original rows:\", nrow(sales_imputed)))\n",
    "print(paste(\"After removing outliers:\", nrow(sales_outliers_removed)))\n",
    "print(paste(\"Rows removed:\", nrow(sales_imputed) - nrow(sales_outliers_removed)))"
   ]
  },
  {
   "cell_type": "code",
   "execution_count": 53,
   "id": "13f7e0cc",
   "metadata": {
    "vscode": {
     "languageId": "r"
    }
   },
   "outputs": [],
   "source": [
    "### TODO: Create a capped version of the dataset\n",
    "sales_outliers_capped <- sales_imputed"
   ]
  },
  {
   "cell_type": "code",
   "execution_count": 55,
   "id": "73cc8e4e",
   "metadata": {
    "vscode": {
     "languageId": "r"
    }
   },
   "outputs": [],
   "source": [
    "### TODO: Apply capping to Sales_Amount\n",
    "sales_outliers_capped$Sales_Amount <- ifelse(\n",
    "  sales_outliers_capped$Sales_Amount < lower_threshold, lower_threshold,\n",
    "    ifelse(sales_outliers_capped$Sales_Amount > upper_threshold, upper_threshold, sales_outliers_capped$Sales_Amount)\n",
    ")\n",
    "### Hint: Use ifelse() to replace values above/below thresholds"
   ]
  },
  {
   "cell_type": "code",
   "execution_count": 56,
   "id": "b1fd1b2e",
   "metadata": {
    "vscode": {
     "languageId": "r"
    }
   },
   "outputs": [
    {
     "name": "stdout",
     "output_type": "stream",
     "text": [
      "[1] \"Sales_Amount range after capping:\"\n",
      "[1]  -50 2000\n"
     ]
    }
   ],
   "source": [
    "### Verify capping worked\n",
    "print(\"Sales_Amount range after capping:\")\n",
    "print(range(sales_outliers_capped$Sales_Amount, na.rm = TRUE))"
   ]
  },
  {
   "cell_type": "code",
   "execution_count": 57,
   "id": "a935fdea",
   "metadata": {
    "vscode": {
     "languageId": "r"
    }
   },
   "outputs": [
    {
     "name": "stdout",
     "output_type": "stream",
     "text": [
      "[1] \"Remaining outliers after capping: 0\"\n"
     ]
    }
   ],
   "source": [
    "### Check for remaining outliers\n",
    "remaining_outliers <- sales_outliers_capped %>%\n",
    "  filter(Sales_Amount < lower_threshold | Sales_Amount > upper_threshold)\n",
    "print(paste(\"Remaining outliers after capping:\", nrow(remaining_outliers)))"
   ]
  },
  {
   "cell_type": "markdown",
   "id": "b8911b91",
   "metadata": {},
   "source": [
    "---\n",
    "\n",
    "## Part 4: Final Data Quality Assessment and Decision Making\n",
    "\n",
    "Choose your final cleaned dataset and justify your decision based on the analysis you've completed."
   ]
  },
  {
   "cell_type": "code",
   "execution_count": 58,
   "id": "668ceb90",
   "metadata": {
    "vscode": {
     "languageId": "r"
    }
   },
   "outputs": [
    {
     "name": "stdout",
     "output_type": "stream",
     "text": [
      "[1] \"=== FINAL DATASET SUMMARY ===\"\n",
      "[1] 4 5\n"
     ]
    },
    {
     "data": {
      "text/plain": [
       "   Min. 1st Qu.  Median    Mean 3rd Qu.    Max.    NA's \n",
       "  -50.0    25.0   100.0   683.3  1050.0  2000.0       1 "
      ]
     },
     "metadata": {},
     "output_type": "display_data"
    }
   ],
   "source": [
    "# TODO: Choose your final cleaned dataset\n",
    "final_dataset <- sales_outliers_capped# Choose one: messy_sales, sales_removed_na, sales_imputed, sales_outliers_removed, or sales_outliers_capped\n",
    "\n",
    "print(\"=== FINAL DATASET SUMMARY ===\")\n",
    "print(dim(final_dataset))\n",
    "summary(final_dataset$Sales_Amount)"
   ]
  },
  {
   "cell_type": "markdown",
   "id": "7f2a573a",
   "metadata": {},
   "source": [
    "**Justification for Your Choice:**\n",
    "\n",
    "[Explain why you chose this particular cleaned dataset. Consider factors like:\n",
    "- Sample size preservation\n",
    "- Data quality improvements\n",
    "- Business impact\n",
    "- Analysis requirements]\n",
    "\n",
    "**YOUR JUSTIFICATION:**\n",
    "\n",
    "I chose the dataset with imputed missing values and capped outliers. This approach preserved the sample size while improving data quality by addressing both missing values and outliers. It ensures that the analysis remains robust and reliable, which is crucial for making informed business decisions."
   ]
  },
  {
   "cell_type": "markdown",
   "id": "d5025810",
   "metadata": {},
   "source": [
    "### 4.2 Create Comparison Summary\n",
    "\n",
    "Create a comprehensive comparison of your original and final datasets."
   ]
  },
  {
   "cell_type": "code",
   "execution_count": 59,
   "id": "b22c2b0f",
   "metadata": {
    "vscode": {
     "languageId": "r"
    }
   },
   "outputs": [
    {
     "name": "stdout",
     "output_type": "stream",
     "text": [
      "[1] \"=== DATA CLEANING COMPARISON ===\"\n",
      "               Metric  Original_Data     Final_Data\n",
      "1      Number of Rows              4              4\n",
      "2      Missing Values              3              1\n",
      "3   Mean Sales_Amount         683.33         683.33\n",
      "4 Median Sales_Amount            100            100\n",
      "5            Outliers Check manually Check manually\n"
     ]
    }
   ],
   "source": [
    "# Create comparison summary\n",
    "comparison_summary <- data.frame(\n",
    "  Metric = c(\"Number of Rows\", \"Missing Values\", \"Mean Sales_Amount\", \"Median Sales_Amount\", \"Outliers\"),\n",
    "  Original_Data = c(\n",
    "    nrow(messy_sales),\n",
    "    sum(is.na(messy_sales)),\n",
    "    round(mean(messy_sales$Sales_Amount, na.rm = TRUE), 2),\n",
    "    round(median(messy_sales$Sales_Amount, na.rm = TRUE), 2),\n",
    "    \"Check manually\" # TODO: Calculate this\n",
    "  ),\n",
    "  Final_Data = c(\n",
    "    nrow(final_dataset),\n",
    "    sum(is.na(final_dataset)),\n",
    "    round(mean(final_dataset$Sales_Amount, na.rm = TRUE), 2),\n",
    "    round(median(final_dataset$Sales_Amount, na.rm = TRUE), 2),\n",
    "    \"Check manually\" # TODO: Calculate this\n",
    "  )\n",
    ")\n",
    "\n",
    "print(\"=== DATA CLEANING COMPARISON ===\")\n",
    "print(comparison_summary)"
   ]
  },
  {
   "cell_type": "markdown",
   "id": "27aa62cf",
   "metadata": {},
   "source": [
    "---\n",
    "\n",
    "## Part 5: Reflection Questions\n",
    "\n",
    "Answer the following questions to demonstrate your understanding of data cleaning concepts and their business implications."
   ]
  },
  {
   "cell_type": "markdown",
   "id": "0ff8e4bb",
   "metadata": {},
   "source": [
    "### Question 1: Missing Value Strategy\n",
    "\n",
    "In what business scenarios would you prefer removing rows with missing values versus imputing them? Provide specific examples.\n",
    "\n",
    "**YOUR ANSWER:**\n",
    "\n",
    "In business scenarios where the missing values are minimal and do not significantly impact the overall dataset, I would prefer removing rows with missing values. For example, in a customer feedback survey where only a few responses are missing, removing those rows would not affect the overall analysis significantly.\n",
    "\n",
    "### Question 2: Outlier Interpretation  \n",
    "\n",
    "You identified outliers in the Sales_Amount column. In a real business context, what could these outliers represent? Should they always be removed or treated? Explain your reasoning.\n",
    "\n",
    "**YOUR ANSWER:**\n",
    "\n",
    "The outliers in the Sales_Amount column could represent exceptional sales events, such as bulk purchases by a major client or seasonal spikes in sales. They should not always be removed or treated, as they can provide valuable insights into business performance. Instead, they should be analyzed to understand their causes and implications. If they are due to data entry errors, they should be corrected or removed. However, if they represent genuine business phenomena, they should be retained and possibly highlighted in the analysis.\n",
    "\n",
    "### Question 3: Data Quality Impact\n",
    "\n",
    "How might the presence of missing values and outliers affect common business analytics tasks such as calculating average sales, identifying top-performing products, or forecasting future sales?\n",
    "\n",
    "**YOUR ANSWER:**\n",
    "\n",
    "The presence of missing values and outliers can significantly skew business analytics tasks. Missing values can lead to inaccurate calculations of average sales, as the absence of data points may lower or raise the average depending on the nature of the missing data. Outliers can distort the identification of top-performing products by inflating sales figures, leading to misguided business decisions. In forecasting future sales, both missing values and outliers can introduce noise into the models, resulting in unreliable predictions. Therefore, addressing these data quality issues is crucial for accurate and effective business analytics.\n",
    "\n",
    "### Question 4: Ethical Considerations\n",
    "\n",
    "What are the ethical implications of removing or modifying data during the cleaning process? How can analysts ensure transparency and maintain data integrity?\n",
    "\n",
    "**YOUR ANSWER:**\n",
    "\n",
    "The ethical implications of removing or modifying data during the cleaning process include the potential for introducing bias, misrepresenting the true nature of the data, and making decisions based on incomplete or altered information. Analysts can ensure transparency and maintain data integrity by documenting all data cleaning steps, including the rationale for removing or modifying data. They should also communicate any limitations of the cleaned dataset to stakeholders and consider the potential impacts of their cleaning decisions on the analysis outcomes."
   ]
  },
  {
   "cell_type": "markdown",
   "id": "75413084",
   "metadata": {},
   "source": [
    "---\n",
    "\n",
    "## Submission Checklist\n",
    "\n",
    "Before submitting, make sure you have:\n",
    "\n",
    "- [ ] **Part 1**: Created and inspected the messy dataset\n",
    "- [ ] **Part 2**: Completed missing value identification and treatment\n",
    "- [ ] **Part 3**: Detected and treated outliers using IQR method  \n",
    "- [ ] **Part 4**: Chosen and justified your final cleaned dataset\n",
    "- [ ] **Part 4**: Created comparison summary table\n",
    "- [ ] **Part 5**: Answered all reflection questions thoroughly\n",
    "- [ ] **Code Quality**: All TODO sections completed with working code\n",
    "- [ ] **Documentation**: Added your name and date at the top\n",
    "- [ ] **Testing**: Run all cells to verify output\n",
    "- [ ] **Submission**: Committed and pushed to GitHub\n",
    "\n",
    "**Great work mastering data cleaning techniques! 🧹✨**"
   ]
  },
  {
   "cell_type": "markdown",
   "id": "1a83f963",
   "metadata": {},
   "source": [
    "---\n",
    "\n",
    "## 🚀 Ready to Submit?\n",
    "\n",
    "### Easy Submission Steps (No Command Line Required!):\n",
    "\n",
    "1. **Save this notebook** (Ctrl+S or File → Save)\n",
    "\n",
    "2. **Use VS Code Source Control**:\n",
    "   - Click the **Source Control** icon in the left sidebar (tree branch symbol)\n",
    "   - Click the **\"+\"** button next to your notebook file\n",
    "   - Type a message: `Submit homework 2 - Data Cleaning - [Your Name]`\n",
    "   - Click **\"Commit\"** \n",
    "   - Click **\"Sync Changes\"** or **\"Push\"**\n",
    "\n",
    "3. **Verify on GitHub**: Go to your repository online and confirm your notebook appears with your completed work\n",
    "\n",
    "**📖 Need help?** See [GITHUB_CLASSROOM_SUBMISSION.md](../../GITHUB_CLASSROOM_SUBMISSION.md) for detailed instructions.\n",
    "\n",
    "**🎉 Congratulations on completing your data cleaning assignment!**"
   ]
  }
 ],
 "metadata": {
  "kernelspec": {
   "display_name": "R",
   "language": "R",
   "name": "ir"
  },
  "language_info": {
   "codemirror_mode": "r",
   "file_extension": ".r",
   "mimetype": "text/x-r-source",
   "name": "R",
   "pygments_lexer": "r",
   "version": "4.4.3"
  }
 },
 "nbformat": 4,
 "nbformat_minor": 5
}
